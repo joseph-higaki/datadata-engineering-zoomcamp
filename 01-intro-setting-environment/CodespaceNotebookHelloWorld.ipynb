{
 "cells": [
  {
   "cell_type": "code",
   "execution_count": 1,
   "id": "3ad744cf-2fa1-4b4b-9469-e948e5c2a649",
   "metadata": {},
   "outputs": [
    {
     "name": "stdout",
     "output_type": "stream",
     "text": [
      "3.9.20 (main, Oct 17 2024, 07:08:51) \n",
      "[GCC 10.2.1 20210110]\n"
     ]
    }
   ],
   "source": [
    "import sys\n",
    "print(sys.version)"
   ]
  },
  {
   "cell_type": "code",
   "execution_count": 8,
   "id": "533b1d29-eaa9-4db5-936c-1d816fb1e610",
   "metadata": {},
   "outputs": [
    {
     "name": "stdout",
     "output_type": "stream",
     "text": [
      "**** Hello World **** \n",
      "System Information:\n",
      "System: Linux\n",
      "Node Name: codespaces-a79a3c\n",
      "Release: 6.5.0-1025-azure\n",
      "Version: #26~22.04.1-Ubuntu SMP Thu Jul 11 22:33:04 UTC 2024\n",
      "Machine: x86_64\n",
      "Processor: \n",
      "\n",
      "CPU Information:\n",
      "Processor: \n",
      "Physical Cores: 1\n",
      "Logical Cores: 2\n",
      "\n",
      "Memory Information:\n",
      "Total Memory: 8313696256 bytes\n",
      "Available Memory: 5889097728 bytes\n",
      "Used Memory: 2029793280 bytes\n",
      "Memory Utilization: 29.2%\n",
      "\n",
      "Disk Information:\n",
      "Total Disk Space: 33636024320 bytes\n",
      "Used Disk Space: 10239643648 bytes\n",
      "Free Disk Space: 21661626368 bytes\n",
      "Disk Space Utilization: 32.1%\n"
     ]
    }
   ],
   "source": [
    "import platform\n",
    "import psutil\n",
    "system_info = platform.uname()\n",
    "print(\"**** Hello World **** \")\n",
    "print(\"System Information:\")\n",
    "print(f\"System: {system_info.system}\")\n",
    "print(f\"Node Name: {system_info.node}\")\n",
    "print(f\"Release: {system_info.release}\")\n",
    "print(f\"Version: {system_info.version}\")\n",
    "print(f\"Machine: {system_info.machine}\")\n",
    "print(f\"Processor: {system_info.processor}\")\n",
    "cpu_info = platform.processor()\n",
    "cpu_count = psutil.cpu_count(logical=False)\n",
    "logical_cpu_count = psutil.cpu_count(logical=True)\n",
    "\n",
    "print(\"\\nCPU Information:\")\n",
    "print(f\"Processor: {cpu_info}\")\n",
    "print(f\"Physical Cores: {cpu_count}\")\n",
    "print(f\"Logical Cores: {logical_cpu_count}\")\n",
    "\n",
    "memory_info = psutil.virtual_memory()\n",
    "\n",
    "print(\"\\nMemory Information:\")\n",
    "print(f\"Total Memory: {memory_info.total} bytes\")\n",
    "print(f\"Available Memory: {memory_info.available} bytes\")\n",
    "print(f\"Used Memory: {memory_info.used} bytes\")\n",
    "print(f\"Memory Utilization: {memory_info.percent}%\")\n",
    "\n",
    "disk_info = psutil.disk_usage('/')\n",
    "\n",
    "print(\"\\nDisk Information:\")\n",
    "print(f\"Total Disk Space: {disk_info.total} bytes\")\n",
    "print(f\"Used Disk Space: {disk_info.used} bytes\")\n",
    "print(f\"Free Disk Space: {disk_info.free} bytes\")\n",
    "print(f\"Disk Space Utilization: {disk_info.percent}%\")"
   ]
  }
 ],
 "metadata": {
  "kernelspec": {
   "display_name": "Python 3 (ipykernel)",
   "language": "python",
   "name": "python3"
  },
  "language_info": {
   "codemirror_mode": {
    "name": "ipython",
    "version": 3
   },
   "file_extension": ".py",
   "mimetype": "text/x-python",
   "name": "python",
   "nbconvert_exporter": "python",
   "pygments_lexer": "ipython3",
   "version": "3.9.20"
  }
 },
 "nbformat": 4,
 "nbformat_minor": 5
}
