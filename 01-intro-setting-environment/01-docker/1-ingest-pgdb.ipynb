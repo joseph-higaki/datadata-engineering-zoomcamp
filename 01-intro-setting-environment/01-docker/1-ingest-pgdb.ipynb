{
 "cells": [
  {
   "cell_type": "code",
   "execution_count": 47,
   "metadata": {},
   "outputs": [],
   "source": [
    "import pandas as pd\n",
    "from sqlalchemy import create_engine\n",
    "from time import time\n",
    "from datetime import datetime;"
   ]
  },
  {
   "cell_type": "markdown",
   "metadata": {},
   "source": [
    "Initialize Values - Schema"
   ]
  },
  {
   "cell_type": "code",
   "execution_count": 34,
   "metadata": {},
   "outputs": [],
   "source": [
    "schema = {\n",
    "    'VendorID': pd.Series(dtype=pd.Int64Dtype()),\n",
    "    'tpep_pickup_datetime': pd.Series(dtype='datetime64[ns]'),\n",
    "    'tpep_dropoff_datetime': pd.Series(dtype='datetime64[ns]'),\n",
    "    'passenger_count': pd.Series(dtype=pd.Int64Dtype()),\n",
    "    'trip_distance': pd.Series(dtype='float64'),\n",
    "    'RatecodeID': pd.Series(dtype=pd.Int64Dtype()),\n",
    "    'store_and_fwd_flag': pd.Series(dtype='object'),\n",
    "    'PULocationID': pd.Series(dtype='int64'),\n",
    "    'DOLocationID': pd.Series(dtype='int64'),\n",
    "    'payment_type': pd.Series(dtype=pd.Int64Dtype()),\n",
    "    'fare_amount': pd.Series(dtype='float64'),\n",
    "    'extra': pd.Series(dtype='float64'),\n",
    "    'mta_tax': pd.Series(dtype='float64'),\n",
    "    'tip_amount': pd.Series(dtype='float64'),\n",
    "    'tolls_amount': pd.Series(dtype='float64'),\n",
    "    'improvement_surcharge': pd.Series(dtype='float64'),\n",
    "    'total_amount': pd.Series(dtype='float64'),\n",
    "    'congestion_surcharge': pd.Series(dtype='float64'),\n",
    "    'tpep_pickup_datetime_text': pd.Series(dtype='object'),\n",
    "    'tpep_dropoff_datetime_text': pd.Series(dtype='object')    \n",
    "}\n"
   ]
  },
  {
   "cell_type": "markdown",
   "metadata": {},
   "source": [
    "Initialize Values - Settings"
   ]
  },
  {
   "cell_type": "code",
   "execution_count": 35,
   "metadata": {},
   "outputs": [],
   "source": [
    "db_user = 'root'\n",
    "db_password = 'root'\n",
    "db_host = '127.0.0.1'\n",
    "db_port = '5432'\n",
    "db_name = 'ny_taxi'\n",
    "table_name = 'yellow_taxi_data'\n",
    "data_url = 'https://github.com/DataTalksClub/nyc-tlc-data/releases/download/yellow/yellow_tripdata_2021-01.csv.gz'"
   ]
  },
  {
   "cell_type": "markdown",
   "metadata": {},
   "source": [
    "Create an empty data Frame with the Schema already reviewed "
   ]
  },
  {
   "cell_type": "code",
   "execution_count": 36,
   "metadata": {},
   "outputs": [],
   "source": [
    "df_empty = pd.DataFrame(schema)"
   ]
  },
  {
   "cell_type": "code",
   "execution_count": 37,
   "metadata": {},
   "outputs": [
    {
     "data": {
      "text/plain": [
       "VendorID                               Int64\n",
       "tpep_pickup_datetime          datetime64[ns]\n",
       "tpep_dropoff_datetime         datetime64[ns]\n",
       "passenger_count                        Int64\n",
       "trip_distance                        float64\n",
       "RatecodeID                             Int64\n",
       "store_and_fwd_flag                    object\n",
       "PULocationID                           int64\n",
       "DOLocationID                           int64\n",
       "payment_type                           Int64\n",
       "fare_amount                          float64\n",
       "extra                                float64\n",
       "mta_tax                              float64\n",
       "tip_amount                           float64\n",
       "tolls_amount                         float64\n",
       "improvement_surcharge                float64\n",
       "total_amount                         float64\n",
       "congestion_surcharge                 float64\n",
       "tpep_pickup_datetime_text             object\n",
       "tpep_dropoff_datetime_text            object\n",
       "dtype: object"
      ]
     },
     "execution_count": 37,
     "metadata": {},
     "output_type": "execute_result"
    }
   ],
   "source": [
    "df_empty.dtypes"
   ]
  },
  {
   "cell_type": "markdown",
   "metadata": {},
   "source": [
    "Create SQL engine"
   ]
  },
  {
   "cell_type": "code",
   "execution_count": 38,
   "metadata": {},
   "outputs": [
    {
     "data": {
      "text/plain": [
       "<sqlalchemy.engine.base.Connection at 0x747c4c7e20d0>"
      ]
     },
     "execution_count": 38,
     "metadata": {},
     "output_type": "execute_result"
    }
   ],
   "source": [
    "engine = create_engine(f'postgresql://{db_user}:{db_password}@{db_host}:{db_port}/{db_name}')\n",
    "engine.connect()"
   ]
  },
  {
   "cell_type": "markdown",
   "metadata": {},
   "source": [
    "Create the table if doesn't exist already"
   ]
  },
  {
   "cell_type": "code",
   "execution_count": 39,
   "metadata": {},
   "outputs": [
    {
     "name": "stdout",
     "output_type": "stream",
     "text": [
      "CREATE TABLE \"yellow_taxi_data\" (\n",
      "\"VendorID\" INTEGER,\n",
      "  \"tpep_pickup_datetime\" TIMESTAMP,\n",
      "  \"tpep_dropoff_datetime\" TIMESTAMP,\n",
      "  \"passenger_count\" INTEGER,\n",
      "  \"trip_distance\" REAL,\n",
      "  \"RatecodeID\" INTEGER,\n",
      "  \"store_and_fwd_flag\" TEXT,\n",
      "  \"PULocationID\" INTEGER,\n",
      "  \"DOLocationID\" INTEGER,\n",
      "  \"payment_type\" INTEGER,\n",
      "  \"fare_amount\" REAL,\n",
      "  \"extra\" REAL,\n",
      "  \"mta_tax\" REAL,\n",
      "  \"tip_amount\" REAL,\n",
      "  \"tolls_amount\" REAL,\n",
      "  \"improvement_surcharge\" REAL,\n",
      "  \"total_amount\" REAL,\n",
      "  \"congestion_surcharge\" REAL,\n",
      "  \"tpep_pickup_datetime_text\" TEXT,\n",
      "  \"tpep_dropoff_datetime_text\" TEXT\n",
      ")\n"
     ]
    }
   ],
   "source": [
    "print(pd.io.sql.get_schema(df_empty, name= table_name))\n"
   ]
  },
  {
   "cell_type": "code",
   "execution_count": 41,
   "metadata": {},
   "outputs": [
    {
     "data": {
      "text/plain": [
       "Index(['VendorID', 'tpep_pickup_datetime', 'tpep_dropoff_datetime',\n",
       "       'passenger_count', 'trip_distance', 'RatecodeID', 'store_and_fwd_flag',\n",
       "       'PULocationID', 'DOLocationID', 'payment_type', 'fare_amount', 'extra',\n",
       "       'mta_tax', 'tip_amount', 'tolls_amount', 'improvement_surcharge',\n",
       "       'total_amount', 'congestion_surcharge', 'tpep_pickup_datetime_text',\n",
       "       'tpep_dropoff_datetime_text'],\n",
       "      dtype='object')"
      ]
     },
     "execution_count": 41,
     "metadata": {},
     "output_type": "execute_result"
    }
   ],
   "source": [
    "df_empty.columns"
   ]
  },
  {
   "cell_type": "code",
   "execution_count": 42,
   "metadata": {},
   "outputs": [
    {
     "data": {
      "text/plain": [
       "0"
      ]
     },
     "execution_count": 42,
     "metadata": {},
     "output_type": "execute_result"
    }
   ],
   "source": [
    "df_empty.to_sql(name= table_name, con=engine, if_exists='replace', index=False)"
   ]
  },
  {
   "cell_type": "markdown",
   "metadata": {},
   "source": [
    "Insert Values - test inserting first batch"
   ]
  },
  {
   "cell_type": "code",
   "execution_count": 45,
   "metadata": {},
   "outputs": [
    {
     "data": {
      "text/plain": [
       "0"
      ]
     },
     "execution_count": 45,
     "metadata": {},
     "output_type": "execute_result"
    }
   ],
   "source": [
    "def table_count(table_name: str):\n",
    "    return engine.execute(f\"select count(1) from {table_name}\").scalar()\n",
    "\n",
    "table_count(table_name)"
   ]
  },
  {
   "cell_type": "code",
   "execution_count": 50,
   "metadata": {},
   "outputs": [
    {
     "name": "stdout",
     "output_type": "stream",
     "text": [
      "2024-10-21 12:41:32.173170\n",
      "12:41:32.173381\n",
      "1729525292.1734326\n"
     ]
    }
   ],
   "source": [
    "print(datetime.now())\n",
    "print(datetime.now().time())\n",
    "print(time())"
   ]
  },
  {
   "cell_type": "code",
   "execution_count": 54,
   "metadata": {},
   "outputs": [
    {
     "name": "stdout",
     "output_type": "stream",
     "text": [
      "Start batch 2024-10-21 12:58:23.220941\n",
      "Table yellow_taxi_data count 000100 records\n",
      "Iteration 001\n",
      "Appends time taken      0.014 seconds.\n",
      "Table yellow_taxi_data count 000110 records\n",
      "Iteration 002\n",
      "Appends time taken      0.011 seconds.\n",
      "Table yellow_taxi_data count 000120 records\n",
      "Iteration 003\n",
      "Appends time taken      0.010 seconds.\n",
      "Table yellow_taxi_data count 000130 records\n",
      "Iteration 004\n",
      "Appends time taken      0.014 seconds.\n",
      "Table yellow_taxi_data count 000140 records\n",
      "Iteration 005\n",
      "Appends time taken      0.010 seconds.\n",
      "Table yellow_taxi_data count 000150 records\n",
      "Iteration 006\n",
      "Appends time taken      0.010 seconds.\n",
      "Table yellow_taxi_data count 000160 records\n",
      "Iteration 007\n",
      "Appends time taken      0.012 seconds.\n",
      "Table yellow_taxi_data count 000170 records\n",
      "Iteration 008\n",
      "Appends time taken      0.011 seconds.\n",
      "Table yellow_taxi_data count 000180 records\n",
      "Iteration 009\n",
      "Appends time taken      0.011 seconds.\n",
      "Table yellow_taxi_data count 000190 records\n",
      "Iteration 010\n",
      "Appends time taken      0.011 seconds.\n",
      "Table yellow_taxi_data count 000200 records\n",
      "File load completed. Total time taken was      0.715 seconds for 010 batches. Start - End Table Counts: 100 - 200 \n"
     ]
    }
   ],
   "source": [
    "d_start = datetime.now()\n",
    "t_start = time()\n",
    "iter_count = 0\n",
    "print(f'Start batch {d_start}')\n",
    "initial_table_count = table_count(table_name)\n",
    "print(f'Table {table_name} count {initial_table_count:06} records')      \n",
    "for chunk in pd.read_csv(data_url, compression='gzip',nrows=100, iterator=True, chunksize=10):\n",
    "    iter_count += 1\n",
    "    print(f'Iteration {iter_count:03}')\n",
    "    b_start = time()\n",
    "    chunk.to_sql(name= table_name, con=engine, if_exists='append', index=False)\n",
    "    b_end = time()\n",
    "    print(f'Appends time taken {b_end-b_start:10.3f} seconds.')\n",
    "    current_table_count = table_count(table_name)    \n",
    "    print(f'Table {table_name} count {current_table_count:06} records')\n",
    "t_end = time()\n",
    "print(f'File load completed. Total time taken was {t_end-t_start:10.3f} seconds for {iter_count:03} batches. Start - End Table Counts: {initial_table_count} - {current_table_count} ')\n"
   ]
  }
 ],
 "metadata": {
  "kernelspec": {
   "display_name": "Python 3 (ipykernel)",
   "language": "python",
   "name": "python3"
  },
  "language_info": {
   "codemirror_mode": {
    "name": "ipython",
    "version": 3
   },
   "file_extension": ".py",
   "mimetype": "text/x-python",
   "name": "python",
   "nbconvert_exporter": "python",
   "pygments_lexer": "ipython3",
   "version": "3.9.20"
  }
 },
 "nbformat": 4,
 "nbformat_minor": 2
}
