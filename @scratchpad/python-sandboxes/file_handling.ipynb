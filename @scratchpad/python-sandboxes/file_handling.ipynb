{
 "cells": [
  {
   "cell_type": "code",
   "execution_count": 3,
   "metadata": {},
   "outputs": [],
   "source": [
    "import os"
   ]
  },
  {
   "cell_type": "code",
   "execution_count": null,
   "metadata": {},
   "outputs": [],
   "source": [
    "\n",
    "dataset_file = \"yellow_tripdata_2021-01.csv.gz\"\n",
    "#source_dataset_url = f\"https://github.com/DataTalksClub/nyc-tlc-data/releases/download/yellow/{dataset_file}\"\n",
    "source_dataset_url = \"https://d37ci6vzurychx.cloudfront.net/trip-data/yellow_tripdata_2021-02.parquet\"\n",
    "#source_dataset_url = \"/workspaces/data-engineering-zoomcamp/.devcontainer/devcontainer.json\"\n",
    "#source_dataset_url = f\"https://d37ci6vzurychx.cloudfront.net/trip-data/{dataset_file}\"\n",
    "#dataset_file = \"yellow_tripdata_2021-01.parquet\"\n"
   ]
  },
  {
   "cell_type": "code",
   "execution_count": 30,
   "metadata": {},
   "outputs": [],
   "source": [
    "def get_basename(input: str) -> str:\n",
    "    basename = input\n",
    "    splittedname = \"\"\n",
    "    i = 0\n",
    "    while i < 3:\n",
    "        splittedname = os.path.splitext(basename)[0]      \n",
    "        #print(f\"iteration {i}\\n basename: {basename}\\n  splittedname: {splittedname}\\n\\n\")\n",
    "        \n",
    "        if basename == splittedname:\n",
    "            break\n",
    "        i += 1\n",
    "        basename = splittedname\n",
    "    return splittedname\n",
    "                         \n",
    "                \n",
    "    \n",
    "\n"
   ]
  },
  {
   "cell_type": "code",
   "execution_count": 33,
   "metadata": {},
   "outputs": [],
   "source": [
    "def get_basename_copilot(file_path_or_uri):\n",
    "    # Extract the base name from the path or URI\n",
    "    base_name = os.path.basename(file_path_or_uri)\n",
    "    \n",
    "    # Remove all extensions\n",
    "    base_name = os.path.splitext(base_name)[0]\n",
    "    while '.' in base_name:\n",
    "        base_name = os.path.splitext(base_name)[0]\n",
    "    \n",
    "    return base_name"
   ]
  },
  {
   "cell_type": "code",
   "execution_count": 28,
   "metadata": {},
   "outputs": [
    {
     "name": "stdout",
     "output_type": "stream",
     "text": [
      "iteration 0\n",
      " basename: devcontainer.json\n",
      "  splittedname: devcontainer\n",
      "\n",
      "\n",
      "iteration 1\n",
      " basename: devcontainer\n",
      "  splittedname: devcontainer\n",
      "\n",
      "\n",
      "devcontainer\n"
     ]
    }
   ],
   "source": [
    "\n",
    "input = os.path.basename(source_dataset_url)\n",
    "print(get_basename(input))\n",
    "\n"
   ]
  },
  {
   "cell_type": "code",
   "execution_count": 35,
   "metadata": {},
   "outputs": [
    {
     "name": "stdout",
     "output_type": "stream",
     "text": [
      "Input: yellow_tripdata_2021-01.csv.gz\n",
      "Base Name: yellow_tripdata_2021-01.csv.gz\n",
      "\n",
      "Input: https://github.com/DataTalksClub/nyc-tlc-data/releases/download/yellow/yellow_tripdata_2021-01.csv.gz\n",
      "Base Name: yellow_tripdata_2021-01.csv.gz\n",
      "\n",
      "Input: https://d37ci6vzurychx.cloudfront.net/trip-data/yellow_tripdata_2021-01.parquet\n",
      "Base Name: yellow_tripdata_2021-01.parquet\n",
      "\n",
      "Input: /workspaces/data-engineering-zoomcamp/.data/yellow_tripdata_2021-01.csv.gz\n",
      "Base Name: yellow_tripdata_2021-01.csv.gz\n",
      "\n",
      "Input: /workspaces/data-engineering-zoomcamp/.data/yellow_tripdata_2021-01.parquet\n",
      "Base Name: yellow_tripdata_2021-01.parquet\n",
      "\n",
      "Input: https://d37ci6vzurychx.cloudfront.net/trip-data/yellow_tripdata_2021-01.csv.gz\n",
      "Base Name: yellow_tripdata_2021-01.csv.gz\n",
      "\n",
      "Input: https://d37ci6vzurychx.cloudfront.net/trip-data/yellow_tripdata_2021-01.parquet\n",
      "Base Name: yellow_tripdata_2021-01.parquet\n",
      "\n"
     ]
    }
   ],
   "source": [
    "test_inputs = [\n",
    "    \"yellow_tripdata_2021-01.csv.gz\",\n",
    "    \"https://github.com/DataTalksClub/nyc-tlc-data/releases/download/yellow/yellow_tripdata_2021-01.csv.gz\",\n",
    "    \"https://d37ci6vzurychx.cloudfront.net/trip-data/yellow_tripdata_2021-01.parquet\",\n",
    "    \"/workspaces/data-engineering-zoomcamp/.data/yellow_tripdata_2021-01.csv.gz\",\n",
    "    \"/workspaces/data-engineering-zoomcamp/.data/yellow_tripdata_2021-01.parquet\",\n",
    "    \"https://d37ci6vzurychx.cloudfront.net/trip-data/yellow_tripdata_2021-01.csv.gz\",\n",
    "    \"https://d37ci6vzurychx.cloudfront.net/trip-data/yellow_tripdata_2021-01.parquet\"\n",
    "]\n",
    "\n",
    "# Print results for each test case\n",
    "for input_str in test_inputs:\n",
    "    print(f\"Input: {input_str}\\nBase Name: {os.path.basename(input_str)}\\n\")"
   ]
  },
  {
   "cell_type": "code",
   "execution_count": 7,
   "metadata": {},
   "outputs": [
    {
     "name": "stdout",
     "output_type": "stream",
     "text": [
      "/trip-data/{trip_type}_{tripdata}_{{{{macros.ds_add(ds,-1)[0:7]}}}}.parquet\n",
      "/trip-data/yellow_round_{{macros.ds_add(ds,-1)[0:7]}}.parquet\n"
     ]
    }
   ],
   "source": [
    "SOURCE_URL_TEMPLATE = \"/trip-data/{trip_type}_{tripdata}_{{{{macros.ds_add(ds,-1)[0:7]}}}}.parquet\"\n",
    "print(SOURCE_URL_TEMPLATE)\n",
    "print(SOURCE_URL_TEMPLATE.format(trip_type=\"yellow\", tripdata=\"round\"))\n",
    "#print(SOURCE_URL_TEMPLATE.format(tripdata=\"round\"))\n"
   ]
  }
 ],
 "metadata": {
  "kernelspec": {
   "display_name": "Python 3 (ipykernel)",
   "language": "python",
   "name": "python3"
  },
  "language_info": {
   "codemirror_mode": {
    "name": "ipython",
    "version": 3
   },
   "file_extension": ".py",
   "mimetype": "text/x-python",
   "name": "python",
   "nbconvert_exporter": "python",
   "pygments_lexer": "ipython3",
   "version": "3.9.20"
  }
 },
 "nbformat": 4,
 "nbformat_minor": 4
}
