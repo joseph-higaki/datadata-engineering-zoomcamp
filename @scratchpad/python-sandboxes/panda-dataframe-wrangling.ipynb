{
 "cells": [
  {
   "cell_type": "markdown",
   "metadata": {},
   "source": [
    "Checkind how to review date dtypes  "
   ]
  },
  {
   "cell_type": "code",
   "execution_count": 1,
   "metadata": {},
   "outputs": [
    {
     "name": "stdout",
     "output_type": "stream",
     "text": [
      "DatetimeIndex(['2021-01-01', 'NaT', 'NaT'], dtype='datetime64[ns]', freq=None)\n",
      "     the_date\n",
      "0  2021-01-01\n",
      "1  2021-02-30\n",
      "2  not_a_date\n"
     ]
    }
   ],
   "source": [
    "import pandas as pd\n",
    "\n",
    "# Sample data\n",
    "data = ['2021-01-01', '2021-02-30', 'not_a_date']\n",
    "\n",
    "# Convert to datetime with errors='coerce'\n",
    "converted_dates = pd.to_datetime(data, errors='coerce')\n",
    "\n",
    "print(converted_dates)\n",
    "df_data = pd.DataFrame(data, columns=[\"the_date\"])\n",
    "print(df_data)\n",
    "\n"
   ]
  },
  {
   "cell_type": "code",
   "execution_count": 4,
   "metadata": {},
   "outputs": [
    {
     "name": "stdout",
     "output_type": "stream",
     "text": [
      "[Timestamp('2021-01-01 00:00:00'), NaT, NaT]\n"
     ]
    }
   ],
   "source": [
    "check_converted = [pd.to_datetime(x, errors='coerce') for x in df_data[\"the_date\"]]\n",
    "#check_converted.isnull()\n",
    "check_converted\n",
    "\n"
   ]
  },
  {
   "cell_type": "code",
   "execution_count": 5,
   "metadata": {},
   "outputs": [
    {
     "data": {
      "text/plain": [
       "0    False\n",
       "1     True\n",
       "2     True\n",
       "Name: the_date, dtype: bool"
      ]
     },
     "execution_count": 5,
     "metadata": {},
     "output_type": "execute_result"
    }
   ],
   "source": [
    "df_data[\"the_date\"].apply(lambda x: pd.to_datetime(x, errors='coerce')).isnull()"
   ]
  },
  {
   "cell_type": "code",
   "execution_count": 12,
   "metadata": {},
   "outputs": [
    {
     "data": {
      "text/html": [
       "<div>\n",
       "<style scoped>\n",
       "    .dataframe tbody tr th:only-of-type {\n",
       "        vertical-align: middle;\n",
       "    }\n",
       "\n",
       "    .dataframe tbody tr th {\n",
       "        vertical-align: top;\n",
       "    }\n",
       "\n",
       "    .dataframe thead th {\n",
       "        text-align: right;\n",
       "    }\n",
       "</style>\n",
       "<table border=\"1\" class=\"dataframe\">\n",
       "  <thead>\n",
       "    <tr style=\"text-align: right;\">\n",
       "      <th></th>\n",
       "      <th>the_date</th>\n",
       "      <th>converted_date</th>\n",
       "      <th>is_the_date_DATE</th>\n",
       "    </tr>\n",
       "  </thead>\n",
       "  <tbody>\n",
       "    <tr>\n",
       "      <th>0</th>\n",
       "      <td>2021-01-01</td>\n",
       "      <td>2021-01-01</td>\n",
       "      <td>True</td>\n",
       "    </tr>\n",
       "    <tr>\n",
       "      <th>1</th>\n",
       "      <td>2021-02-30</td>\n",
       "      <td>NaT</td>\n",
       "      <td>False</td>\n",
       "    </tr>\n",
       "    <tr>\n",
       "      <th>2</th>\n",
       "      <td>not_a_date</td>\n",
       "      <td>NaT</td>\n",
       "      <td>False</td>\n",
       "    </tr>\n",
       "  </tbody>\n",
       "</table>\n",
       "</div>"
      ],
      "text/plain": [
       "     the_date converted_date  is_the_date_DATE\n",
       "0  2021-01-01     2021-01-01              True\n",
       "1  2021-02-30            NaT             False\n",
       "2  not_a_date            NaT             False"
      ]
     },
     "execution_count": 12,
     "metadata": {},
     "output_type": "execute_result"
    }
   ],
   "source": [
    "df_data[\"converted_date\"] = pd.to_datetime(df_data[\"the_date\"], errors='coerce')\n",
    "df_data[\"is_the_date_DATE\"] = df_data[\"converted_date\"].notnull()\n",
    "df_data"
   ]
  },
  {
   "cell_type": "code",
   "execution_count": 8,
   "metadata": {},
   "outputs": [
    {
     "name": "stdout",
     "output_type": "stream",
     "text": [
      "+********something********+\n"
     ]
    }
   ],
   "source": [
    "message = \"something\"\n",
    "print(\"+\" + f\"{message:*^25}\" + \"+\")"
   ]
  },
  {
   "cell_type": "code",
   "execution_count": 14,
   "metadata": {},
   "outputs": [
    {
     "name": "stdout",
     "output_type": "stream",
     "text": [
      "***************something****************\n"
     ]
    }
   ],
   "source": [
    "\n",
    "def get_centered_text(message: str, padding_char: str = \"*\", total_lenght: int = 40):\n",
    "    return f\"{message:{padding_char}^{total_lenght}}\" \n",
    "\n",
    "print(get_centered_text(\"something\"))"
   ]
  },
  {
   "cell_type": "code",
   "execution_count": 13,
   "metadata": {},
   "outputs": [
    {
     "name": "stdout",
     "output_type": "stream",
     "text": [
      "***** something ******************************************************************************************\n"
     ]
    }
   ],
   "source": [
    "def get_centered_text2(message: str, padding_char: str = \"*\", total_lenght: int = 100):\n",
    "    #return f\"{padding_char*5}\" + f\"{f\"{message} \":{padding_char}<{total_lenght}}\" \n",
    "    return f\"{padding_char*5} {f'{message} ':{padding_char}<{total_lenght}}\"\n",
    "\n",
    "print(get_centered_text2(\"something\"))"
   ]
  }
 ],
 "metadata": {
  "kernelspec": {
   "display_name": "Python 3 (ipykernel)",
   "language": "python",
   "name": "python3"
  },
  "language_info": {
   "codemirror_mode": {
    "name": "ipython",
    "version": 3
   },
   "file_extension": ".py",
   "mimetype": "text/x-python",
   "name": "python",
   "nbconvert_exporter": "python",
   "pygments_lexer": "ipython3",
   "version": "3.9.20"
  }
 },
 "nbformat": 4,
 "nbformat_minor": 2
}
