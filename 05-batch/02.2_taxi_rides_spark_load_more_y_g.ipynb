{
 "cells": [
  {
   "cell_type": "markdown",
   "metadata": {},
   "source": [
    "# Download 209 files\n",
    "\n",
    "copy scripts From dev container to VM\n",
    "```bash\n",
    "scp /workspaces/data-engineering-zoomcamp/05-batch/download_nyc_tripdata.sh spark_jhigaki_gcp@de-zoomcamp-spark-medium:download_nyc_tripdata.sh \n",
    "\n",
    "scp /workspaces/data-engineering-zoomcamp/05-batch/download_2019_2020_all.sh spark_jhigaki_gcp@de-zoomcamp-spark-medium:download_2019_2020_all.sh \n",
    "```\n",
    "grant execution permissions from VM\n",
    "\n",
    "```bash\n",
    "chmod +x download_nyc_tripdata.sh \n",
    "chmod +x download_2019_2020_all.sh \n",
    "```\n",
    "\n",
    "\n",
    "download files\n",
    "\n",
    "```bash\n",
    "./download_2019_2020_all.sh \n",
    "``` \n"
   ]
  },
  {
   "cell_type": "markdown",
   "metadata": {},
   "source": [
    "```bash\n",
    "(base) spark_jhigaki_gcp@spark-medium:~$ tree tmp-data\n",
    "tmp-data\n",
    "└── raw\n",
    "    ├── fhv_tripdata_2019-01.parquet\n",
    "    ├── fhv_tripdata_2019-02.parquet\n",
    "    ├── fhv_tripdata_2019-03.parquet\n",
    "    ├── fhv_tripdata_2019-04.parquet\n",
    "    ├── fhv_tripdata_2019-05.parquet\n",
    "    ├── fhv_tripdata_2019-06.parquet\n",
    "    ├── fhv_tripdata_2019-07.parquet\n",
    "    ├── fhv_tripdata_2019-08.parquet\n",
    "    ├── fhv_tripdata_2019-09.parquet\n",
    "    ├── fhv_tripdata_2019-10.parquet\n",
    "    ├── fhv_tripdata_2019-11.parquet\n",
    "    ├── fhv_tripdata_2019-12.parquet\n",
    "    ├── green_tripdata_2019-01.parquet\n",
    "    ├── green_tripdata_2019-02.parquet\n",
    "    ├── green_tripdata_2019-03.parquet\n",
    "    ├── green_tripdata_2019-04.parquet\n",
    "    ├── green_tripdata_2019-05.parquet\n",
    "    ├── green_tripdata_2019-06.parquet\n",
    "    ├── green_tripdata_2019-07.parquet\n",
    "    ├── green_tripdata_2019-08.parquet\n",
    "    ├── green_tripdata_2019-09.parquet\n",
    "    ├── green_tripdata_2019-10.parquet\n",
    "    ├── green_tripdata_2019-11.parquet\n",
    "    ├── green_tripdata_2019-12.parquet\n",
    "    ├── yellow_tripdata_2019-01.parquet\n",
    "    ├── yellow_tripdata_2019-02.parquet\n",
    "    ├── yellow_tripdata_2019-03.parquet\n",
    "    ├── yellow_tripdata_2019-04.parquet\n",
    "    ├── yellow_tripdata_2019-05.parquet\n",
    "    ├── yellow_tripdata_2019-06.parquet\n",
    "    ├── yellow_tripdata_2019-07.parquet\n",
    "    ├── yellow_tripdata_2019-08.parquet\n",
    "    ├── yellow_tripdata_2019-09.parquet\n",
    "    ├── yellow_tripdata_2019-10.parquet\n",
    "    ├── yellow_tripdata_2019-11.parquet\n",
    "    └── yellow_tripdata_2019-12.parquet\n",
    "```"
   ]
  },
  {
   "cell_type": "code",
   "execution_count": 1,
   "metadata": {},
   "outputs": [],
   "source": [
    "import pyspark\n",
    "from pyspark.sql import SparkSession\n"
   ]
  },
  {
   "cell_type": "code",
   "execution_count": 2,
   "metadata": {},
   "outputs": [
    {
     "name": "stderr",
     "output_type": "stream",
     "text": [
      "Setting default log level to \"WARN\".\n",
      "To adjust logging level use sc.setLogLevel(newLevel). For SparkR, use setLogLevel(newLevel).\n",
      "24/11/26 14:44:01 WARN NativeCodeLoader: Unable to load native-hadoop library for your platform... using builtin-java classes where applicable\n"
     ]
    }
   ],
   "source": [
    "spark = SparkSession.builder \\\n",
    "    .master(\"local[*]\") \\\n",
    "    .appName('nyc_taxi_notebook_02.2') \\\n",
    "    .getOrCreate()"
   ]
  },
  {
   "cell_type": "code",
   "execution_count": 3,
   "metadata": {},
   "outputs": [
    {
     "name": "stdout",
     "output_type": "stream",
     "text": [
      "processing data for yellow/ 2019/01\n"
     ]
    },
    {
     "name": "stderr",
     "output_type": "stream",
     "text": [
      "                                                                                \r"
     ]
    },
    {
     "name": "stdout",
     "output_type": "stream",
     "text": [
      "processing data for yellow/ 2019/02\n"
     ]
    },
    {
     "name": "stderr",
     "output_type": "stream",
     "text": [
      "                                                                                \r"
     ]
    },
    {
     "name": "stdout",
     "output_type": "stream",
     "text": [
      "processing data for yellow/ 2019/03\n"
     ]
    },
    {
     "name": "stderr",
     "output_type": "stream",
     "text": [
      "                                                                                \r"
     ]
    },
    {
     "name": "stdout",
     "output_type": "stream",
     "text": [
      "processing data for yellow/ 2019/04\n"
     ]
    },
    {
     "name": "stderr",
     "output_type": "stream",
     "text": [
      "                                                                                \r"
     ]
    },
    {
     "name": "stdout",
     "output_type": "stream",
     "text": [
      "processing data for yellow/ 2019/05\n"
     ]
    },
    {
     "name": "stderr",
     "output_type": "stream",
     "text": [
      "                                                                                \r"
     ]
    },
    {
     "name": "stdout",
     "output_type": "stream",
     "text": [
      "processing data for yellow/ 2019/06\n"
     ]
    },
    {
     "name": "stderr",
     "output_type": "stream",
     "text": [
      "                                                                                \r"
     ]
    },
    {
     "name": "stdout",
     "output_type": "stream",
     "text": [
      "processing data for yellow/ 2019/07\n"
     ]
    },
    {
     "name": "stderr",
     "output_type": "stream",
     "text": [
      "                                                                                \r"
     ]
    },
    {
     "name": "stdout",
     "output_type": "stream",
     "text": [
      "processing data for yellow/ 2019/08\n"
     ]
    },
    {
     "name": "stderr",
     "output_type": "stream",
     "text": [
      "                                                                                \r"
     ]
    },
    {
     "name": "stdout",
     "output_type": "stream",
     "text": [
      "processing data for yellow/ 2019/09\n"
     ]
    },
    {
     "name": "stderr",
     "output_type": "stream",
     "text": [
      "                                                                                \r"
     ]
    },
    {
     "name": "stdout",
     "output_type": "stream",
     "text": [
      "processing data for yellow/ 2019/10\n"
     ]
    },
    {
     "name": "stderr",
     "output_type": "stream",
     "text": [
      "                                                                                \r"
     ]
    },
    {
     "name": "stdout",
     "output_type": "stream",
     "text": [
      "processing data for yellow/ 2019/11\n"
     ]
    },
    {
     "name": "stderr",
     "output_type": "stream",
     "text": [
      "                                                                                \r"
     ]
    },
    {
     "name": "stdout",
     "output_type": "stream",
     "text": [
      "processing data for yellow/ 2019/12\n"
     ]
    },
    {
     "name": "stderr",
     "output_type": "stream",
     "text": [
      "                                                                                \r"
     ]
    },
    {
     "name": "stdout",
     "output_type": "stream",
     "text": [
      "processing data for green/ 2019/01\n"
     ]
    },
    {
     "name": "stderr",
     "output_type": "stream",
     "text": [
      "                                                                                \r"
     ]
    },
    {
     "name": "stdout",
     "output_type": "stream",
     "text": [
      "processing data for green/ 2019/02\n"
     ]
    },
    {
     "name": "stderr",
     "output_type": "stream",
     "text": [
      "                                                                                \r"
     ]
    },
    {
     "name": "stdout",
     "output_type": "stream",
     "text": [
      "processing data for green/ 2019/03\n"
     ]
    },
    {
     "name": "stderr",
     "output_type": "stream",
     "text": [
      "                                                                                \r"
     ]
    },
    {
     "name": "stdout",
     "output_type": "stream",
     "text": [
      "processing data for green/ 2019/04\n"
     ]
    },
    {
     "name": "stderr",
     "output_type": "stream",
     "text": [
      "                                                                                \r"
     ]
    },
    {
     "name": "stdout",
     "output_type": "stream",
     "text": [
      "processing data for green/ 2019/05\n"
     ]
    },
    {
     "name": "stderr",
     "output_type": "stream",
     "text": [
      "                                                                                \r"
     ]
    },
    {
     "name": "stdout",
     "output_type": "stream",
     "text": [
      "processing data for green/ 2019/06\n"
     ]
    },
    {
     "name": "stderr",
     "output_type": "stream",
     "text": [
      "                                                                                \r"
     ]
    },
    {
     "name": "stdout",
     "output_type": "stream",
     "text": [
      "processing data for green/ 2019/07\n"
     ]
    },
    {
     "name": "stderr",
     "output_type": "stream",
     "text": [
      "                                                                                \r"
     ]
    },
    {
     "name": "stdout",
     "output_type": "stream",
     "text": [
      "processing data for green/ 2019/08\n"
     ]
    },
    {
     "name": "stderr",
     "output_type": "stream",
     "text": [
      "                                                                                \r"
     ]
    },
    {
     "name": "stdout",
     "output_type": "stream",
     "text": [
      "processing data for green/ 2019/09\n"
     ]
    },
    {
     "name": "stderr",
     "output_type": "stream",
     "text": [
      "                                                                                \r"
     ]
    },
    {
     "name": "stdout",
     "output_type": "stream",
     "text": [
      "processing data for green/ 2019/10\n"
     ]
    },
    {
     "name": "stderr",
     "output_type": "stream",
     "text": [
      "                                                                                \r"
     ]
    },
    {
     "name": "stdout",
     "output_type": "stream",
     "text": [
      "processing data for green/ 2019/11\n"
     ]
    },
    {
     "name": "stderr",
     "output_type": "stream",
     "text": [
      "                                                                                \r"
     ]
    },
    {
     "name": "stdout",
     "output_type": "stream",
     "text": [
      "processing data for green/ 2019/12\n"
     ]
    },
    {
     "name": "stderr",
     "output_type": "stream",
     "text": [
      "                                                                                \r"
     ]
    }
   ],
   "source": [
    "year = 2019\n",
    "for service_type in [\"yellow\", \"green\"]: #, \"fhv\"]:\n",
    "    for month in range(1,13):\n",
    "        s_month = f'{month:02d}'\n",
    "        print(f'processing data for {service_type}/ {year}/{s_month}')\n",
    "        output_path = f'tmp-data/pq/{service_type}/{year}/{s_month}/'\n",
    "        df = spark.read\\\n",
    "            .parquet(f'tmp-data/raw/{service_type}_tripdata_{year}-{s_month}.parquet')\n",
    "        df \\\n",
    "        .repartition(3) \\\n",
    "        .write.parquet(output_path)\n"
   ]
  },
  {
   "cell_type": "markdown",
   "metadata": {},
   "source": [
    "# Parquet files structure\n",
    "\n",
    "`tmp-data/pq`\n",
    "\n",
    "```bash\n",
    "tmp-data/pq\n",
    "├── green\n",
    "│   └── 2019\n",
    "│       ├── 01\n",
    "│       │   ├── _SUCCESS\n",
    "│       │   ├── part-00000-4f43b460-018a-4430-ad02-374fe54b2386-c000.snappy.parquet\n",
    "│       │   ├── part-00001-4f43b460-018a-4430-ad02-374fe54b2386-c000.snappy.parquet\n",
    "│       │   └── part-00002-4f43b460-018a-4430-ad02-374fe54b2386-c000.snappy.parquet\n",
    "│       ├── 02\n",
    "│       │   ├── _SUCCESS\n",
    "│       │   ├── part-00000-f034100a-03fc-4da3-92c1-92155782a8ca-c000.snappy.parquet\n",
    "│       │   ├── part-00001-f034100a-03fc-4da3-92c1-92155782a8ca-c000.snappy.parquet\n",
    "│       │   └── part-00002-f034100a-03fc-4da3-92c1-92155782a8ca-c000.snappy.parquet\n",
    "│       ├── 03\n",
    "│       │   ├── _SUCCESS\n",
    "│       │   ├── part-00000-7405fcfa-1d39-4be7-9172-e10d5615f2f5-c000.snappy.parquet\n",
    "│       │   ├── part-00001-7405fcfa-1d39-4be7-9172-e10d5615f2f5-c000.snappy.parquet\n",
    "│       │   └── part-00002-7405fcfa-1d39-4be7-9172-e10d5615f2f5-c000.snappy.parquet\n",
    "│       ├── 04\n",
    "│       │   ├── _SUCCESS\n",
    "│       │   ├── part-00000-a9cdae5b-26cd-425f-852e-5b9cc80e9581-c000.snappy.parquet\n",
    "│       │   ├── part-00001-a9cdae5b-26cd-425f-852e-5b9cc80e9581-c000.snappy.parquet\n",
    "│       │   └── part-00002-a9cdae5b-26cd-425f-852e-5b9cc80e9581-c000.snappy.parquet\n",
    "│       ├── 05\n",
    "│       │   ├── _SUCCESS\n",
    "│       │   ├── part-00000-1bbb5dac-cca2-4038-b939-fc58e7d31b46-c000.snappy.parquet\n",
    "│       │   ├── part-00001-1bbb5dac-cca2-4038-b939-fc58e7d31b46-c000.snappy.parquet\n",
    "│       │   └── part-00002-1bbb5dac-cca2-4038-b939-fc58e7d31b46-c000.snappy.parquet\n",
    "│       ├── 06\n",
    "│       │   ├── _SUCCESS\n",
    "│       │   ├── part-00000-046773ff-8f35-477d-b982-029555cbfdf2-c000.snappy.parquet\n",
    "│       │   ├── part-00001-046773ff-8f35-477d-b982-029555cbfdf2-c000.snappy.parquet\n",
    "│       │   └── part-00002-046773ff-8f35-477d-b982-029555cbfdf2-c000.snappy.parquet\n",
    "│       ├── 07\n",
    "│       │   ├── _SUCCESS\n",
    "│       │   ├── part-00000-38b83064-debf-435e-a8a7-0a838b131cff-c000.snappy.parquet\n",
    "│       │   ├── part-00001-38b83064-debf-435e-a8a7-0a838b131cff-c000.snappy.parquet\n",
    "│       │   └── part-00002-38b83064-debf-435e-a8a7-0a838b131cff-c000.snappy.parquet\n",
    "│       ├── 08\n",
    "│       │   ├── _SUCCESS\n",
    "│       │   ├── part-00000-4d8fe4a2-51ce-4e0d-8d84-5b226bd4e980-c000.snappy.parquet\n",
    "│       │   ├── part-00001-4d8fe4a2-51ce-4e0d-8d84-5b226bd4e980-c000.snappy.parquet\n",
    "│       │   └── part-00002-4d8fe4a2-51ce-4e0d-8d84-5b226bd4e980-c000.snappy.parquet\n",
    "│       ├── 09\n",
    "│       │   ├── _SUCCESS\n",
    "│       │   ├── part-00000-05c53687-308c-4145-a3dc-f942aa99aedb-c000.snappy.parquet\n",
    "│       │   ├── part-00001-05c53687-308c-4145-a3dc-f942aa99aedb-c000.snappy.parquet\n",
    "│       │   └── part-00002-05c53687-308c-4145-a3dc-f942aa99aedb-c000.snappy.parquet\n",
    "│       ├── 10\n",
    "│       │   ├── _SUCCESS\n",
    "│       │   ├── part-00000-48692a9d-fb25-4a18-a8c8-3d3c31118444-c000.snappy.parquet\n",
    "│       │   ├── part-00001-48692a9d-fb25-4a18-a8c8-3d3c31118444-c000.snappy.parquet\n",
    "│       │   └── part-00002-48692a9d-fb25-4a18-a8c8-3d3c31118444-c000.snappy.parquet\n",
    "│       ├── 11\n",
    "│       │   ├── _SUCCESS\n",
    "│       │   ├── part-00000-1dd7776a-5d80-47e8-9378-7652cc1d438f-c000.snappy.parquet\n",
    "│       │   ├── part-00001-1dd7776a-5d80-47e8-9378-7652cc1d438f-c000.snappy.parquet\n",
    "│       │   └── part-00002-1dd7776a-5d80-47e8-9378-7652cc1d438f-c000.snappy.parquet\n",
    "│       └── 12\n",
    "│           ├── _SUCCESS\n",
    "│           ├── part-00000-4cfc88dc-db0f-48e2-9655-264f4799247a-c000.snappy.parquet\n",
    "│           ├── part-00001-4cfc88dc-db0f-48e2-9655-264f4799247a-c000.snappy.parquet\n",
    "│           └── part-00002-4cfc88dc-db0f-48e2-9655-264f4799247a-c000.snappy.parquet\n",
    "└── yellow\n",
    "    └── 2019\n",
    "        ├── 01\n",
    "        │   ├── _SUCCESS\n",
    "        │   ├── part-00000-b6304053-158d-4c2d-bd01-5db7095f0de9-c000.snappy.parquet\n",
    "        │   ├── part-00001-b6304053-158d-4c2d-bd01-5db7095f0de9-c000.snappy.parquet\n",
    "        │   └── part-00002-b6304053-158d-4c2d-bd01-5db7095f0de9-c000.snappy.parquet\n",
    "        ├── 02\n",
    "        │   ├── _SUCCESS\n",
    "        │   ├── part-00000-f1c53b4d-6b12-47b8-b923-e19bc39c5afa-c000.snappy.parquet\n",
    "        │   ├── part-00001-f1c53b4d-6b12-47b8-b923-e19bc39c5afa-c000.snappy.parquet\n",
    "        │   └── part-00002-f1c53b4d-6b12-47b8-b923-e19bc39c5afa-c000.snappy.parquet\n",
    "        ├── 03\n",
    "        │   ├── _SUCCESS\n",
    "        │   ├── part-00000-3f9e2afd-b150-4b34-93a5-ab1e6c392b24-c000.snappy.parquet\n",
    "        │   ├── part-00001-3f9e2afd-b150-4b34-93a5-ab1e6c392b24-c000.snappy.parquet\n",
    "        │   └── part-00002-3f9e2afd-b150-4b34-93a5-ab1e6c392b24-c000.snappy.parquet\n",
    "        ├── 04\n",
    "        │   ├── _SUCCESS\n",
    "        │   ├── part-00000-c65b75c2-f173-4db3-969e-00802d4468dd-c000.snappy.parquet\n",
    "        │   ├── part-00001-c65b75c2-f173-4db3-969e-00802d4468dd-c000.snappy.parquet\n",
    "        │   └── part-00002-c65b75c2-f173-4db3-969e-00802d4468dd-c000.snappy.parquet\n",
    "        ├── 05\n",
    "        │   ├── _SUCCESS\n",
    "        │   ├── part-00000-76f962fc-7a7b-4d27-b540-b095070583f1-c000.snappy.parquet\n",
    "        │   ├── part-00001-76f962fc-7a7b-4d27-b540-b095070583f1-c000.snappy.parquet\n",
    "        │   └── part-00002-76f962fc-7a7b-4d27-b540-b095070583f1-c000.snappy.parquet\n",
    "        ├── 06\n",
    "        │   ├── _SUCCESS\n",
    "        │   ├── part-00000-7cf5a1ab-13a5-4324-980a-b60f5a9fbb50-c000.snappy.parquet\n",
    "        │   ├── part-00001-7cf5a1ab-13a5-4324-980a-b60f5a9fbb50-c000.snappy.parquet\n",
    "        │   └── part-00002-7cf5a1ab-13a5-4324-980a-b60f5a9fbb50-c000.snappy.parquet\n",
    "        ├── 07\n",
    "        │   ├── _SUCCESS\n",
    "        │   ├── part-00000-962c580d-c1f1-4218-a894-725b65fade5f-c000.snappy.parquet\n",
    "        │   ├── part-00001-962c580d-c1f1-4218-a894-725b65fade5f-c000.snappy.parquet\n",
    "        │   └── part-00002-962c580d-c1f1-4218-a894-725b65fade5f-c000.snappy.parquet\n",
    "        ├── 08\n",
    "        │   ├── _SUCCESS\n",
    "        │   ├── part-00000-aebcf1cc-a520-4bf5-8f62-35d17cfe5d5d-c000.snappy.parquet\n",
    "        │   ├── part-00001-aebcf1cc-a520-4bf5-8f62-35d17cfe5d5d-c000.snappy.parquet\n",
    "        │   └── part-00002-aebcf1cc-a520-4bf5-8f62-35d17cfe5d5d-c000.snappy.parquet\n",
    "        ├── 09\n",
    "        │   ├── _SUCCESS\n",
    "        │   ├── part-00000-3c9003e5-0ca9-43f4-9be5-dfd52daab74a-c000.snappy.parquet\n",
    "        │   ├── part-00001-3c9003e5-0ca9-43f4-9be5-dfd52daab74a-c000.snappy.parquet\n",
    "        │   └── part-00002-3c9003e5-0ca9-43f4-9be5-dfd52daab74a-c000.snappy.parquet\n",
    "        ├── 10\n",
    "        │   ├── _SUCCESS\n",
    "        │   ├── part-00000-3c92214e-6af8-4b26-8c22-bc9f272bfec1-c000.snappy.parquet\n",
    "        │   ├── part-00001-3c92214e-6af8-4b26-8c22-bc9f272bfec1-c000.snappy.parquet\n",
    "        │   └── part-00002-3c92214e-6af8-4b26-8c22-bc9f272bfec1-c000.snappy.parquet\n",
    "        ├── 11\n",
    "        │   ├── _SUCCESS\n",
    "        │   ├── part-00000-53469066-d054-4633-b576-a8e27c7c2fc5-c000.snappy.parquet\n",
    "        │   ├── part-00001-53469066-d054-4633-b576-a8e27c7c2fc5-c000.snappy.parquet\n",
    "        │   └── part-00002-53469066-d054-4633-b576-a8e27c7c2fc5-c000.snappy.parquet\n",
    "        └── 12\n",
    "            ├── _SUCCESS\n",
    "            ├── part-00000-46cb4878-c3cd-4c49-a964-3e7463b007d3-c000.snappy.parquet\n",
    "            ├── part-00001-46cb4878-c3cd-4c49-a964-3e7463b007d3-c000.snappy.parquet\n",
    "            └── part-00002-46cb4878-c3cd-4c49-a964-3e7463b007d3-c000.snappy.parquet\n",
    "\n",
    "29 directories, 96 files\n",
    "```"
   ]
  },
  {
   "cell_type": "markdown",
   "metadata": {},
   "source": [
    "`ls -shR tmp-data/pq`\n",
    "\n",
    "```bash\n",
    "*******************************************************************************************\n",
    "tmp-data/pq/green/2019/01:\n",
    "total 16M\n",
    "   0 _SUCCESS\n",
    "5.3M part-00000-4f43b460-018a-4430-ad02-374fe54b2386-c000.snappy.parquet\n",
    "5.4M part-00001-4f43b460-018a-4430-ad02-374fe54b2386-c000.snappy.parquet\n",
    "5.4M part-00002-4f43b460-018a-4430-ad02-374fe54b2386-c000.snappy.parquet\n",
    "\n",
    "tmp-data/pq/green/2019/02:\n",
    "total 15M\n",
    "   0 _SUCCESS\n",
    "5.0M part-00000-f034100a-03fc-4da3-92c1-92155782a8ca-c000.snappy.parquet\n",
    "5.0M part-00001-f034100a-03fc-4da3-92c1-92155782a8ca-c000.snappy.parquet\n",
    "5.0M part-00002-f034100a-03fc-4da3-92c1-92155782a8ca-c000.snappy.parquet\n",
    "\n",
    "tmp-data/pq/green/2019/03:\n",
    "total 16M\n",
    "   0 _SUCCESS\n",
    "5.2M part-00000-7405fcfa-1d39-4be7-9172-e10d5615f2f5-c000.snappy.parquet\n",
    "5.2M part-00001-7405fcfa-1d39-4be7-9172-e10d5615f2f5-c000.snappy.parquet\n",
    "5.2M part-00002-7405fcfa-1d39-4be7-9172-e10d5615f2f5-c000.snappy.parquet\n",
    "\n",
    "tmp-data/pq/green/2019/04:\n",
    "total 14M\n",
    "   0 _SUCCESS\n",
    "4.6M part-00000-a9cdae5b-26cd-425f-852e-5b9cc80e9581-c000.snappy.parquet\n",
    "4.6M part-00001-a9cdae5b-26cd-425f-852e-5b9cc80e9581-c000.snappy.parquet\n",
    "4.6M part-00002-a9cdae5b-26cd-425f-852e-5b9cc80e9581-c000.snappy.parquet\n",
    "\n",
    "tmp-data/pq/green/2019/05:\n",
    "total 13M\n",
    "   0 _SUCCESS\n",
    "4.3M part-00000-1bbb5dac-cca2-4038-b939-fc58e7d31b46-c000.snappy.parquet\n",
    "4.3M part-00001-1bbb5dac-cca2-4038-b939-fc58e7d31b46-c000.snappy.parquet\n",
    "4.3M part-00002-1bbb5dac-cca2-4038-b939-fc58e7d31b46-c000.snappy.parquet\n",
    "\n",
    "tmp-data/pq/green/2019/06:\n",
    "total 13M\n",
    "   0 _SUCCESS\n",
    "4.1M part-00000-046773ff-8f35-477d-b982-029555cbfdf2-c000.snappy.parquet\n",
    "4.0M part-00001-046773ff-8f35-477d-b982-029555cbfdf2-c000.snappy.parquet\n",
    "4.0M part-00002-046773ff-8f35-477d-b982-029555cbfdf2-c000.snappy.parquet\n",
    "\n",
    "tmp-data/pq/green/2019/07:\n",
    "total 12M\n",
    "   0 _SUCCESS\n",
    "3.8M part-00000-38b83064-debf-435e-a8a7-0a838b131cff-c000.snappy.parquet\n",
    "3.8M part-00001-38b83064-debf-435e-a8a7-0a838b131cff-c000.snappy.parquet\n",
    "3.8M part-00002-38b83064-debf-435e-a8a7-0a838b131cff-c000.snappy.parquet\n",
    "\n",
    "tmp-data/pq/green/2019/08:\n",
    "total 11M\n",
    "   0 _SUCCESS\n",
    "3.6M part-00000-4d8fe4a2-51ce-4e0d-8d84-5b226bd4e980-c000.snappy.parquet\n",
    "3.6M part-00001-4d8fe4a2-51ce-4e0d-8d84-5b226bd4e980-c000.snappy.parquet\n",
    "3.6M part-00002-4d8fe4a2-51ce-4e0d-8d84-5b226bd4e980-c000.snappy.parquet\n",
    "\n",
    "tmp-data/pq/green/2019/09:\n",
    "total 11M\n",
    "   0 _SUCCESS\n",
    "3.7M part-00000-05c53687-308c-4145-a3dc-f942aa99aedb-c000.snappy.parquet\n",
    "3.6M part-00001-05c53687-308c-4145-a3dc-f942aa99aedb-c000.snappy.parquet\n",
    "3.7M part-00002-05c53687-308c-4145-a3dc-f942aa99aedb-c000.snappy.parquet\n",
    "\n",
    "tmp-data/pq/green/2019/10:\n",
    "total 12M\n",
    "   0 _SUCCESS\n",
    "3.9M part-00000-48692a9d-fb25-4a18-a8c8-3d3c31118444-c000.snappy.parquet\n",
    "3.9M part-00001-48692a9d-fb25-4a18-a8c8-3d3c31118444-c000.snappy.parquet\n",
    "3.9M part-00002-48692a9d-fb25-4a18-a8c8-3d3c31118444-c000.snappy.parquet\n",
    "\n",
    "tmp-data/pq/green/2019/11:\n",
    "total 11M\n",
    "   0 _SUCCESS\n",
    "3.7M part-00000-1dd7776a-5d80-47e8-9378-7652cc1d438f-c000.snappy.parquet\n",
    "3.7M part-00001-1dd7776a-5d80-47e8-9378-7652cc1d438f-c000.snappy.parquet\n",
    "3.7M part-00002-1dd7776a-5d80-47e8-9378-7652cc1d438f-c000.snappy.parquet\n",
    "\n",
    "tmp-data/pq/green/2019/12:\n",
    "total 11M\n",
    "   0 _SUCCESS\n",
    "3.7M part-00000-4cfc88dc-db0f-48e2-9655-264f4799247a-c000.snappy.parquet\n",
    "3.7M part-00001-4cfc88dc-db0f-48e2-9655-264f4799247a-c000.snappy.parquet\n",
    "3.7M part-00002-4cfc88dc-db0f-48e2-9655-264f4799247a-c000.snappy.parquet\n",
    "\n",
    "\n",
    "\n",
    "tmp-data/pq/yellow/2019/01:\n",
    "total 181M\n",
    "  0 _SUCCESS\n",
    "61M part-00000-b6304053-158d-4c2d-bd01-5db7095f0de9-c000.snappy.parquet\n",
    "61M part-00001-b6304053-158d-4c2d-bd01-5db7095f0de9-c000.snappy.parquet\n",
    "61M part-00002-b6304053-158d-4c2d-bd01-5db7095f0de9-c000.snappy.parquet\n",
    "\n",
    "tmp-data/pq/yellow/2019/02:\n",
    "total 168M\n",
    "  0 _SUCCESS\n",
    "56M part-00000-f1c53b4d-6b12-47b8-b923-e19bc39c5afa-c000.snappy.parquet\n",
    "56M part-00001-f1c53b4d-6b12-47b8-b923-e19bc39c5afa-c000.snappy.parquet\n",
    "56M part-00002-f1c53b4d-6b12-47b8-b923-e19bc39c5afa-c000.snappy.parquet\n",
    "\n",
    "tmp-data/pq/yellow/2019/03:\n",
    "total 188M\n",
    "  0 _SUCCESS\n",
    "63M part-00000-3f9e2afd-b150-4b34-93a5-ab1e6c392b24-c000.snappy.parquet\n",
    "63M part-00001-3f9e2afd-b150-4b34-93a5-ab1e6c392b24-c000.snappy.parquet\n",
    "63M part-00002-3f9e2afd-b150-4b34-93a5-ab1e6c392b24-c000.snappy.parquet\n",
    "\n",
    "tmp-data/pq/yellow/2019/04:\n",
    "total 177M\n",
    "  0 _SUCCESS\n",
    "59M part-00000-c65b75c2-f173-4db3-969e-00802d4468dd-c000.snappy.parquet\n",
    "60M part-00001-c65b75c2-f173-4db3-969e-00802d4468dd-c000.snappy.parquet\n",
    "59M part-00002-c65b75c2-f173-4db3-969e-00802d4468dd-c000.snappy.parquet\n",
    "\n",
    "tmp-data/pq/yellow/2019/05:\n",
    "total 180M\n",
    "  0 _SUCCESS\n",
    "60M part-00000-76f962fc-7a7b-4d27-b540-b095070583f1-c000.snappy.parquet\n",
    "60M part-00001-76f962fc-7a7b-4d27-b540-b095070583f1-c000.snappy.parquet\n",
    "60M part-00002-76f962fc-7a7b-4d27-b540-b095070583f1-c000.snappy.parquet\n",
    "\n",
    "tmp-data/pq/yellow/2019/06:\n",
    "total 166M\n",
    "  0 _SUCCESS\n",
    "56M part-00000-7cf5a1ab-13a5-4324-980a-b60f5a9fbb50-c000.snappy.parquet\n",
    "56M part-00001-7cf5a1ab-13a5-4324-980a-b60f5a9fbb50-c000.snappy.parquet\n",
    "56M part-00002-7cf5a1ab-13a5-4324-980a-b60f5a9fbb50-c000.snappy.parquet\n",
    "\n",
    "tmp-data/pq/yellow/2019/07:\n",
    "total 150M\n",
    "  0 _SUCCESS\n",
    "50M part-00000-962c580d-c1f1-4218-a894-725b65fade5f-c000.snappy.parquet\n",
    "50M part-00001-962c580d-c1f1-4218-a894-725b65fade5f-c000.snappy.parquet\n",
    "50M part-00002-962c580d-c1f1-4218-a894-725b65fade5f-c000.snappy.parquet\n",
    "\n",
    "tmp-data/pq/yellow/2019/08:\n",
    "total 145M\n",
    "  0 _SUCCESS\n",
    "49M part-00000-aebcf1cc-a520-4bf5-8f62-35d17cfe5d5d-c000.snappy.parquet\n",
    "49M part-00001-aebcf1cc-a520-4bf5-8f62-35d17cfe5d5d-c000.snappy.parquet\n",
    "49M part-00002-aebcf1cc-a520-4bf5-8f62-35d17cfe5d5d-c000.snappy.parquet\n",
    "\n",
    "tmp-data/pq/yellow/2019/09:\n",
    "total 156M\n",
    "  0 _SUCCESS\n",
    "52M part-00000-3c9003e5-0ca9-43f4-9be5-dfd52daab74a-c000.snappy.parquet\n",
    "52M part-00001-3c9003e5-0ca9-43f4-9be5-dfd52daab74a-c000.snappy.parquet\n",
    "52M part-00002-3c9003e5-0ca9-43f4-9be5-dfd52daab74a-c000.snappy.parquet\n",
    "\n",
    "tmp-data/pq/yellow/2019/10:\n",
    "total 171M\n",
    "  0 _SUCCESS\n",
    "57M part-00000-3c92214e-6af8-4b26-8c22-bc9f272bfec1-c000.snappy.parquet\n",
    "57M part-00001-3c92214e-6af8-4b26-8c22-bc9f272bfec1-c000.snappy.parquet\n",
    "57M part-00002-3c92214e-6af8-4b26-8c22-bc9f272bfec1-c000.snappy.parquet\n",
    "\n",
    "tmp-data/pq/yellow/2019/11:\n",
    "total 164M\n",
    "  0 _SUCCESS\n",
    "55M part-00000-53469066-d054-4633-b576-a8e27c7c2fc5-c000.snappy.parquet\n",
    "55M part-00001-53469066-d054-4633-b576-a8e27c7c2fc5-c000.snappy.parquet\n",
    "55M part-00002-53469066-d054-4633-b576-a8e27c7c2fc5-c000.snappy.parquet\n",
    "\n",
    "tmp-data/pq/yellow/2019/12:\n",
    "total 164M\n",
    "  0 _SUCCESS\n",
    "55M part-00000-46cb4878-c3cd-4c49-a964-3e7463b007d3-c000.snappy.parquet\n",
    "55M part-00001-46cb4878-c3cd-4c49-a964-3e7463b007d3-c000.snappy.parquet\n",
    "55M part-00002-46cb4878-c3cd-4c49-a964-3e7463b007d3-c000.snappy.parquet\n",
    "```"
   ]
  },
  {
   "attachments": {
    "image.png": {
     "image/png": "[encoded data removed]"
    }
   },
   "cell_type": "markdown",
   "metadata": {},
   "source": [
    "# Parquet files were splitted in 3\n",
    "As an example, I took one of the sample runs\n",
    "\n",
    "![image.png](attachment:image.png)\n",
    "\n",
    "One of the stages has output sizes of 3.7 MiB\n",
    "151765 + 151765 + 151764"
   ]
  },
  {
   "cell_type": "code",
   "execution_count": 4,
   "metadata": {},
   "outputs": [
    {
     "name": "stdout",
     "output_type": "stream",
     "text": [
      "number of records 455294\n"
     ]
    }
   ],
   "source": [
    "print(f\"number of records {151765 + 151765 + 151764}\")"
   ]
  },
  {
   "cell_type": "markdown",
   "metadata": {},
   "source": [
    "WHich service _ type month could it be?"
   ]
  }
 ],
 "metadata": {
  "kernelspec": {
   "display_name": "Python 3 (ipykernel)",
   "language": "python",
   "name": "python3"
  }
 },
 "nbformat": 4,
 "nbformat_minor": 2
}
