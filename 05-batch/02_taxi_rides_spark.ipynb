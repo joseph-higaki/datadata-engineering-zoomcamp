{
 "cells": [
  {
   "cell_type": "markdown",
   "metadata": {},
   "source": [
    "# Download 209 files\n",
    "\n",
    "copy scripts From dev container to VM\n",
    "```bash\n",
    "scp /workspaces/data-engineering-zoomcamp/05-batch/download_nyc_tripdata.sh spark_jhigaki_gcp@de-zoomcamp-spark-medium:download_nyc_tripdata.sh \n",
    "\n",
    "scp /workspaces/data-engineering-zoomcamp/05-batch/download_2019_2020_all.sh spark_jhigaki_gcp@de-zoomcamp-spark-medium:download_2019_2020_all.sh \n",
    "```\n",
    "grant execution permissions from VM\n",
    "\n",
    "```bash\n",
    "chmod +x download_nyc_tripdata.sh \n",
    "chmod +x download_2019_2020_all.sh \n",
    "```\n",
    "\n",
    "\n",
    "download files\n",
    "\n",
    "```bash\n",
    "./download_2019_2020_all.sh \n",
    "``` \n"
   ]
  },
  {
   "cell_type": "markdown",
   "metadata": {},
   "source": [
    "```bash\n",
    "(base) spark_jhigaki_gcp@spark-medium:~$ tree tmp-data\n",
    "tmp-data\n",
    "└── raw\n",
    "    ├── fhv_tripdata_2019-01.parquet\n",
    "    ├── fhv_tripdata_2019-02.parquet\n",
    "    ├── fhv_tripdata_2019-03.parquet\n",
    "    ├── fhv_tripdata_2019-04.parquet\n",
    "    ├── fhv_tripdata_2019-05.parquet\n",
    "    ├── fhv_tripdata_2019-06.parquet\n",
    "    ├── fhv_tripdata_2019-07.parquet\n",
    "    ├── fhv_tripdata_2019-08.parquet\n",
    "    ├── fhv_tripdata_2019-09.parquet\n",
    "    ├── fhv_tripdata_2019-10.parquet\n",
    "    ├── fhv_tripdata_2019-11.parquet\n",
    "    ├── fhv_tripdata_2019-12.parquet\n",
    "    ├── green_tripdata_2019-01.parquet\n",
    "    ├── green_tripdata_2019-02.parquet\n",
    "    ├── green_tripdata_2019-03.parquet\n",
    "    ├── green_tripdata_2019-04.parquet\n",
    "    ├── green_tripdata_2019-05.parquet\n",
    "    ├── green_tripdata_2019-06.parquet\n",
    "    ├── green_tripdata_2019-07.parquet\n",
    "    ├── green_tripdata_2019-08.parquet\n",
    "    ├── green_tripdata_2019-09.parquet\n",
    "    ├── green_tripdata_2019-10.parquet\n",
    "    ├── green_tripdata_2019-11.parquet\n",
    "    ├── green_tripdata_2019-12.parquet\n",
    "    ├── yellow_tripdata_2019-01.parquet\n",
    "    ├── yellow_tripdata_2019-02.parquet\n",
    "    ├── yellow_tripdata_2019-03.parquet\n",
    "    ├── yellow_tripdata_2019-04.parquet\n",
    "    ├── yellow_tripdata_2019-05.parquet\n",
    "    ├── yellow_tripdata_2019-06.parquet\n",
    "    ├── yellow_tripdata_2019-07.parquet\n",
    "    ├── yellow_tripdata_2019-08.parquet\n",
    "    ├── yellow_tripdata_2019-09.parquet\n",
    "    ├── yellow_tripdata_2019-10.parquet\n",
    "    ├── yellow_tripdata_2019-11.parquet\n",
    "    └── yellow_tripdata_2019-12.parquet\n",
    "```"
   ]
  },
  {
   "cell_type": "code",
   "execution_count": 1,
   "metadata": {},
   "outputs": [],
   "source": [
    "import pyspark\n",
    "from pyspark.sql import SparkSession\n"
   ]
  },
  {
   "cell_type": "code",
   "execution_count": 2,
   "metadata": {},
   "outputs": [
    {
     "name": "stderr",
     "output_type": "stream",
     "text": [
      "Setting default log level to \"WARN\".\n",
      "To adjust logging level use sc.setLogLevel(newLevel). For SparkR, use setLogLevel(newLevel).\n",
      "24/11/25 19:36:39 WARN NativeCodeLoader: Unable to load native-hadoop library for your platform... using builtin-java classes where applicable\n"
     ]
    }
   ],
   "source": [
    "spark = SparkSession.builder \\\n",
    "    .master(\"local[*]\") \\\n",
    "    .appName('nyc_taxi_notebook_2') \\\n",
    "    .getOrCreate()"
   ]
  },
  {
   "cell_type": "code",
   "execution_count": 3,
   "metadata": {},
   "outputs": [
    {
     "name": "stdout",
     "output_type": "stream",
     "text": [
      "processing data for yellow/ 2019/01\n"
     ]
    },
    {
     "name": "stderr",
     "output_type": "stream",
     "text": [
      "                                                                                \r"
     ]
    },
    {
     "name": "stdout",
     "output_type": "stream",
     "text": [
      "processing data for yellow/ 2019/02\n"
     ]
    },
    {
     "name": "stderr",
     "output_type": "stream",
     "text": [
      "                                                                                \r"
     ]
    },
    {
     "name": "stdout",
     "output_type": "stream",
     "text": [
      "processing data for green/ 2019/01\n"
     ]
    },
    {
     "name": "stderr",
     "output_type": "stream",
     "text": [
      "                                                                                \r"
     ]
    },
    {
     "name": "stdout",
     "output_type": "stream",
     "text": [
      "processing data for green/ 2019/02\n"
     ]
    },
    {
     "name": "stderr",
     "output_type": "stream",
     "text": [
      "                                                                                \r"
     ]
    },
    {
     "name": "stdout",
     "output_type": "stream",
     "text": [
      "processing data for fhv/ 2019/01\n"
     ]
    },
    {
     "name": "stderr",
     "output_type": "stream",
     "text": [
      "                                                                                \r"
     ]
    },
    {
     "name": "stdout",
     "output_type": "stream",
     "text": [
      "processing data for fhv/ 2019/02\n"
     ]
    },
    {
     "name": "stderr",
     "output_type": "stream",
     "text": [
      "                                                                                \r"
     ]
    }
   ],
   "source": [
    "year = 2019\n",
    "for service_type in [\"yellow\", \"green\", \"fhv\"]:\n",
    "    for month in range(1,3):\n",
    "        s_month = f'{month:02d}'\n",
    "        print(f'processing data for {service_type}/ {year}/{s_month}')\n",
    "        output_path = f'tmp-data/pq/{service_type}/{year}/{s_month}/'\n",
    "        df = spark.read\\\n",
    "            .parquet(f'tmp-data/raw/{service_type}_tripdata_{year}-{s_month}.parquet')\n",
    "        df \\\n",
    "        .repartition(4) \\\n",
    "        .write.parquet(output_path)\n"
   ]
  },
  {
   "cell_type": "markdown",
   "metadata": {},
   "source": [
    "# Parquet files structure\n",
    "\n",
    "`tmp-data/pq`\n",
    "\n",
    "```bash\n",
    "tmp-data/pq\n",
    "├── fhv\n",
    "│   └── 2019\n",
    "│       ├── 01\n",
    "│       │   ├── _SUCCESS\n",
    "│       │   ├── part-00000-280eb4fc-a1b5-42ba-9e6c-d01869f9d57b-c000.snappy.parquet\n",
    "│       │   ├── part-00001-280eb4fc-a1b5-42ba-9e6c-d01869f9d57b-c000.snappy.parquet\n",
    "│       │   ├── part-00002-280eb4fc-a1b5-42ba-9e6c-d01869f9d57b-c000.snappy.parquet\n",
    "│       │   └── part-00003-280eb4fc-a1b5-42ba-9e6c-d01869f9d57b-c000.snappy.parquet\n",
    "│       └── 02\n",
    "│           ├── _SUCCESS\n",
    "│           ├── part-00000-67561eba-5ab3-436b-a67a-dca2bf9822dd-c000.snappy.parquet\n",
    "│           ├── part-00001-67561eba-5ab3-436b-a67a-dca2bf9822dd-c000.snappy.parquet\n",
    "│           ├── part-00002-67561eba-5ab3-436b-a67a-dca2bf9822dd-c000.snappy.parquet\n",
    "│           └── part-00003-67561eba-5ab3-436b-a67a-dca2bf9822dd-c000.snappy.parquet\n",
    "├── green\n",
    "│   └── 2019\n",
    "│       ├── 01\n",
    "│       │   ├── _SUCCESS\n",
    "│       │   ├── part-00000-aa48fd5f-bf05-4667-90df-233dcfbc7e9e-c000.snappy.parquet\n",
    "│       │   ├── part-00001-aa48fd5f-bf05-4667-90df-233dcfbc7e9e-c000.snappy.parquet\n",
    "│       │   ├── part-00002-aa48fd5f-bf05-4667-90df-233dcfbc7e9e-c000.snappy.parquet\n",
    "│       │   └── part-00003-aa48fd5f-bf05-4667-90df-233dcfbc7e9e-c000.snappy.parquet\n",
    "│       └── 02\n",
    "│           ├── _SUCCESS\n",
    "│           ├── part-00000-373ee481-af6c-48b7-9baf-abb558d5085c-c000.snappy.parquet\n",
    "│           ├── part-00001-373ee481-af6c-48b7-9baf-abb558d5085c-c000.snappy.parquet\n",
    "│           ├── part-00002-373ee481-af6c-48b7-9baf-abb558d5085c-c000.snappy.parquet\n",
    "│           └── part-00003-373ee481-af6c-48b7-9baf-abb558d5085c-c000.snappy.parquet\n",
    "└── yellow\n",
    "    └── 2019\n",
    "        ├── 01\n",
    "        │   ├── _SUCCESS\n",
    "        │   ├── part-00000-8aff6ca3-bf91-4ee4-9cde-9ead8cac9ef4-c000.snappy.parquet\n",
    "        │   ├── part-00001-8aff6ca3-bf91-4ee4-9cde-9ead8cac9ef4-c000.snappy.parquet\n",
    "        │   ├── part-00002-8aff6ca3-bf91-4ee4-9cde-9ead8cac9ef4-c000.snappy.parquet\n",
    "        │   └── part-00003-8aff6ca3-bf91-4ee4-9cde-9ead8cac9ef4-c000.snappy.parquet\n",
    "        └── 02\n",
    "            ├── _SUCCESS\n",
    "            ├── part-00000-82f659c1-77ef-4939-a81e-3801306d6812-c000.snappy.parquet\n",
    "            ├── part-00001-82f659c1-77ef-4939-a81e-3801306d6812-c000.snappy.parquet\n",
    "            ├── part-00002-82f659c1-77ef-4939-a81e-3801306d6812-c000.snappy.parquet\n",
    "            └── part-00003-82f659c1-77ef-4939-a81e-3801306d6812-c000.snappy.parquet\n",
    "\n",
    "13 directories, 30 files\n",
    "```"
   ]
  },
  {
   "cell_type": "markdown",
   "metadata": {},
   "source": [
    "`ls -shR tmp-data/pq`\n",
    "\n",
    "```bash\n",
    "*******************************************************************************************\n",
    "tmp-data/pq/fhv/2019/01:\n",
    "total 436M\n",
    "   0 _SUCCESS\n",
    "109M part-00000-280eb4fc-a1b5-42ba-9e6c-d01869f9d57b-c000.snappy.parquet\n",
    "109M part-00001-280eb4fc-a1b5-42ba-9e6c-d01869f9d57b-c000.snappy.parquet\n",
    "109M part-00002-280eb4fc-a1b5-42ba-9e6c-d01869f9d57b-c000.snappy.parquet\n",
    "109M part-00003-280eb4fc-a1b5-42ba-9e6c-d01869f9d57b-c000.snappy.parquet\n",
    "\n",
    "tmp-data/pq/fhv/2019/02:\n",
    "total 30M\n",
    "   0 _SUCCESS\n",
    "7.3M part-00000-67561eba-5ab3-436b-a67a-dca2bf9822dd-c000.snappy.parquet\n",
    "7.3M part-00001-67561eba-5ab3-436b-a67a-dca2bf9822dd-c000.snappy.parquet\n",
    "7.3M part-00002-67561eba-5ab3-436b-a67a-dca2bf9822dd-c000.snappy.parquet\n",
    "7.3M part-00003-67561eba-5ab3-436b-a67a-dca2bf9822dd-c000.snappy.parquet\n",
    "*******************************************************************************************\n",
    "tmp-data/pq/green/2019/01:\n",
    "total 16M\n",
    "   0 _SUCCESS\n",
    "4.0M part-00000-aa48fd5f-bf05-4667-90df-233dcfbc7e9e-c000.snappy.parquet\n",
    "4.0M part-00001-aa48fd5f-bf05-4667-90df-233dcfbc7e9e-c000.snappy.parquet\n",
    "4.0M part-00002-aa48fd5f-bf05-4667-90df-233dcfbc7e9e-c000.snappy.parquet\n",
    "4.0M part-00003-aa48fd5f-bf05-4667-90df-233dcfbc7e9e-c000.snappy.parquet\n",
    "\n",
    "tmp-data/pq/green/2019/02:\n",
    "total 15M\n",
    "   0 _SUCCESS\n",
    "3.7M part-00000-373ee481-af6c-48b7-9baf-abb558d5085c-c000.snappy.parquet\n",
    "3.7M part-00001-373ee481-af6c-48b7-9baf-abb558d5085c-c000.snappy.parquet\n",
    "3.7M part-00002-373ee481-af6c-48b7-9baf-abb558d5085c-c000.snappy.parquet\n",
    "3.7M part-00003-373ee481-af6c-48b7-9baf-abb558d5085c-c000.snappy.parquet\n",
    "*******************************************************************************************\n",
    "tmp-data/pq/yellow/2019/01:\n",
    "total 180M\n",
    "  0 _SUCCESS\n",
    "45M part-00000-8aff6ca3-bf91-4ee4-9cde-9ead8cac9ef4-c000.snappy.parquet\n",
    "45M part-00001-8aff6ca3-bf91-4ee4-9cde-9ead8cac9ef4-c000.snappy.parquet\n",
    "45M part-00002-8aff6ca3-bf91-4ee4-9cde-9ead8cac9ef4-c000.snappy.parquet\n",
    "45M part-00003-8aff6ca3-bf91-4ee4-9cde-9ead8cac9ef4-c000.snappy.parquet\n",
    "\n",
    "tmp-data/pq/yellow/2019/02:\n",
    "total 167M\n",
    "  0 _SUCCESS\n",
    "42M part-00000-82f659c1-77ef-4939-a81e-3801306d6812-c000.snappy.parquet\n",
    "42M part-00001-82f659c1-77ef-4939-a81e-3801306d6812-c000.snappy.parquet\n",
    "42M part-00002-82f659c1-77ef-4939-a81e-3801306d6812-c000.snappy.parquet\n",
    "42M part-00003-82f659c1-77ef-4939-a81e-3801306d6812-c000.snappy.parquet\n",
    "```"
   ]
  },
  {
   "cell_type": "markdown",
   "metadata": {},
   "source": [
    "# Parquet files were splitted in 4 "
   ]
  }
 ],
 "metadata": {
  "kernelspec": {
   "display_name": "Python 3 (ipykernel)",
   "language": "python",
   "name": "python3"
  },
  "language_info": {
   "codemirror_mode": {
    "name": "ipython",
    "version": 3
   },
   "file_extension": ".py",
   "mimetype": "text/x-python",
   "name": "python",
   "nbconvert_exporter": "python",
   "pygments_lexer": "ipython3",
   "version": "3.11.10"
  }
 },
 "nbformat": 4,
 "nbformat_minor": 2
}
