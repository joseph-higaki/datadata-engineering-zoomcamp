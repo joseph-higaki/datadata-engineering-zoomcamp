{
 "cells": [
  {
   "cell_type": "markdown",
   "metadata": {},
   "source": [
    "# Download 209 files\n",
    "\n",
    "copy scripts From dev container to VM\n",
    "```bash\n",
    "scp /workspaces/data-engineering-zoomcamp/05-batch/download_nyc_tripdata.sh spark_jhigaki_gcp@de-zoomcamp-spark-medium:download_nyc_tripdata.sh \n",
    "\n",
    "scp /workspaces/data-engineering-zoomcamp/05-batch/download_2019_2020_all.sh spark_jhigaki_gcp@de-zoomcamp-spark-medium:download_2019_2020_all.sh \n",
    "```\n",
    "grant execution permissions from VM\n",
    "\n",
    "```bash\n",
    "chmod +x download_nyc_tripdata.sh \n",
    "chmod +x download_2019_2020_all.sh \n",
    "```\n",
    "\n",
    "\n",
    "download files\n",
    "\n",
    "```bash\n",
    "./download_2019_2020_all.sh \n",
    "``` \n"
   ]
  },
  {
   "cell_type": "markdown",
   "metadata": {},
   "source": [
    "```bash\n",
    "(base) spark_jhigaki_gcp@spark-medium:~$ tree tmp-data\n",
    "tmp-data\n",
    "└── raw\n",
    "    ├── fhv_tripdata_2019-01.parquet\n",
    "    ├── fhv_tripdata_2019-02.parquet\n",
    "    ├── fhv_tripdata_2019-03.parquet\n",
    "    ├── fhv_tripdata_2019-04.parquet\n",
    "    ├── fhv_tripdata_2019-05.parquet\n",
    "    ├── fhv_tripdata_2019-06.parquet\n",
    "    ├── fhv_tripdata_2019-07.parquet\n",
    "    ├── fhv_tripdata_2019-08.parquet\n",
    "    ├── fhv_tripdata_2019-09.parquet\n",
    "    ├── fhv_tripdata_2019-10.parquet\n",
    "    ├── fhv_tripdata_2019-11.parquet\n",
    "    ├── fhv_tripdata_2019-12.parquet\n",
    "    ├── green_tripdata_2019-01.parquet\n",
    "    ├── green_tripdata_2019-02.parquet\n",
    "    ├── green_tripdata_2019-03.parquet\n",
    "    ├── green_tripdata_2019-04.parquet\n",
    "    ├── green_tripdata_2019-05.parquet\n",
    "    ├── green_tripdata_2019-06.parquet\n",
    "    ├── green_tripdata_2019-07.parquet\n",
    "    ├── green_tripdata_2019-08.parquet\n",
    "    ├── green_tripdata_2019-09.parquet\n",
    "    ├── green_tripdata_2019-10.parquet\n",
    "    ├── green_tripdata_2019-11.parquet\n",
    "    ├── green_tripdata_2019-12.parquet\n",
    "    ├── yellow_tripdata_2019-01.parquet\n",
    "    ├── yellow_tripdata_2019-02.parquet\n",
    "    ├── yellow_tripdata_2019-03.parquet\n",
    "    ├── yellow_tripdata_2019-04.parquet\n",
    "    ├── yellow_tripdata_2019-05.parquet\n",
    "    ├── yellow_tripdata_2019-06.parquet\n",
    "    ├── yellow_tripdata_2019-07.parquet\n",
    "    ├── yellow_tripdata_2019-08.parquet\n",
    "    ├── yellow_tripdata_2019-09.parquet\n",
    "    ├── yellow_tripdata_2019-10.parquet\n",
    "    ├── yellow_tripdata_2019-11.parquet\n",
    "    └── yellow_tripdata_2019-12.parquet\n",
    "```"
   ]
  },
  {
   "cell_type": "code",
   "execution_count": 4,
   "metadata": {},
   "outputs": [],
   "source": [
    "import pyspark\n",
    "from pyspark.sql import SparkSession\n"
   ]
  },
  {
   "cell_type": "code",
   "execution_count": 5,
   "metadata": {},
   "outputs": [],
   "source": [
    "spark = SparkSession.builder \\\n",
    "    .master(\"local[*]\") \\\n",
    "    .appName('nyc_taxi_notebook_4') \\\n",
    "    .getOrCreate()"
   ]
  },
  {
   "cell_type": "code",
   "execution_count": null,
   "metadata": {},
   "outputs": [
    {
     "name": "stdout",
     "output_type": "stream",
     "text": [
      "processing data for yellow/ 2019/01\n"
     ]
    },
    {
     "name": "stderr",
     "output_type": "stream",
     "text": [
      "                                                                                \r"
     ]
    },
    {
     "name": "stdout",
     "output_type": "stream",
     "text": [
      "processing data for yellow/ 2019/02\n"
     ]
    },
    {
     "name": "stderr",
     "output_type": "stream",
     "text": [
      "                                                                                \r"
     ]
    },
    {
     "name": "stdout",
     "output_type": "stream",
     "text": [
      "processing data for yellow/ 2019/03\n"
     ]
    },
    {
     "name": "stderr",
     "output_type": "stream",
     "text": [
      "                                                                                \r"
     ]
    },
    {
     "name": "stdout",
     "output_type": "stream",
     "text": [
      "processing data for yellow/ 2019/04\n"
     ]
    },
    {
     "name": "stderr",
     "output_type": "stream",
     "text": [
      "                                                                                \r"
     ]
    },
    {
     "name": "stdout",
     "output_type": "stream",
     "text": [
      "processing data for yellow/ 2019/05\n"
     ]
    },
    {
     "name": "stderr",
     "output_type": "stream",
     "text": [
      "                                                                                \r"
     ]
    },
    {
     "name": "stdout",
     "output_type": "stream",
     "text": [
      "processing data for green/ 2019/01\n"
     ]
    },
    {
     "name": "stderr",
     "output_type": "stream",
     "text": [
      "                                                                                \r"
     ]
    },
    {
     "name": "stdout",
     "output_type": "stream",
     "text": [
      "processing data for green/ 2019/02\n"
     ]
    },
    {
     "name": "stderr",
     "output_type": "stream",
     "text": [
      "                                                                                \r"
     ]
    },
    {
     "name": "stdout",
     "output_type": "stream",
     "text": [
      "processing data for green/ 2019/03\n"
     ]
    },
    {
     "name": "stderr",
     "output_type": "stream",
     "text": [
      "                                                                                \r"
     ]
    },
    {
     "name": "stdout",
     "output_type": "stream",
     "text": [
      "processing data for green/ 2019/04\n"
     ]
    },
    {
     "name": "stderr",
     "output_type": "stream",
     "text": [
      "                                                                                \r"
     ]
    },
    {
     "name": "stdout",
     "output_type": "stream",
     "text": [
      "processing data for green/ 2019/05\n"
     ]
    },
    {
     "name": "stderr",
     "output_type": "stream",
     "text": [
      "                                                                                \r"
     ]
    },
    {
     "name": "stdout",
     "output_type": "stream",
     "text": [
      "processing data for fhv/ 2019/01\n"
     ]
    },
    {
     "ename": "AnalysisException",
     "evalue": "[PATH_NOT_FOUND] Path does not exist: file:/home/spark_jhigaki_gcp/tmp-data/raw/fhv_tripdata_2019-01.parquet.",
     "output_type": "error",
     "traceback": [
      "\u001b[0;31m---------------------------------------------------------------------------\u001b[0m",
      "\u001b[0;31mAnalysisException\u001b[0m                         Traceback (most recent call last)",
      "Cell \u001b[0;32mIn[3], line 8\u001b[0m\n\u001b[1;32m      5\u001b[0m \u001b[38;5;28mprint\u001b[39m(\u001b[38;5;124mf\u001b[39m\u001b[38;5;124m'\u001b[39m\u001b[38;5;124mprocessing data for \u001b[39m\u001b[38;5;132;01m{\u001b[39;00mservice_type\u001b[38;5;132;01m}\u001b[39;00m\u001b[38;5;124m/ \u001b[39m\u001b[38;5;132;01m{\u001b[39;00myear\u001b[38;5;132;01m}\u001b[39;00m\u001b[38;5;124m/\u001b[39m\u001b[38;5;132;01m{\u001b[39;00ms_month\u001b[38;5;132;01m}\u001b[39;00m\u001b[38;5;124m'\u001b[39m)\n\u001b[1;32m      6\u001b[0m output_path \u001b[38;5;241m=\u001b[39m \u001b[38;5;124mf\u001b[39m\u001b[38;5;124m'\u001b[39m\u001b[38;5;124mtmp-data/pq/\u001b[39m\u001b[38;5;132;01m{\u001b[39;00mservice_type\u001b[38;5;132;01m}\u001b[39;00m\u001b[38;5;124m/\u001b[39m\u001b[38;5;132;01m{\u001b[39;00myear\u001b[38;5;132;01m}\u001b[39;00m\u001b[38;5;124m/\u001b[39m\u001b[38;5;132;01m{\u001b[39;00ms_month\u001b[38;5;132;01m}\u001b[39;00m\u001b[38;5;124m/\u001b[39m\u001b[38;5;124m'\u001b[39m\n\u001b[1;32m      7\u001b[0m df \u001b[38;5;241m=\u001b[39m spark\u001b[38;5;241m.\u001b[39mread\\\n\u001b[0;32m----> 8\u001b[0m     \u001b[38;5;241m.\u001b[39mparquet(\u001b[38;5;124mf\u001b[39m\u001b[38;5;124m'\u001b[39m\u001b[38;5;124mtmp-data/raw/\u001b[39m\u001b[38;5;132;01m{\u001b[39;00mservice_type\u001b[38;5;132;01m}\u001b[39;00m\u001b[38;5;124m_tripdata_\u001b[39m\u001b[38;5;132;01m{\u001b[39;00myear\u001b[38;5;132;01m}\u001b[39;00m\u001b[38;5;124m-\u001b[39m\u001b[38;5;132;01m{\u001b[39;00ms_month\u001b[38;5;132;01m}\u001b[39;00m\u001b[38;5;124m.parquet\u001b[39m\u001b[38;5;124m'\u001b[39m)\n\u001b[1;32m      9\u001b[0m df \\\n\u001b[1;32m     10\u001b[0m \u001b[38;5;241m.\u001b[39mrepartition(\u001b[38;5;241m4\u001b[39m) \\\n\u001b[1;32m     11\u001b[0m \u001b[38;5;241m.\u001b[39mwrite\u001b[38;5;241m.\u001b[39mparquet(output_path)\n",
      "File \u001b[0;32m~/spark/spark-3.4.4-bin-hadoop3/python/pyspark/sql/readwriter.py:531\u001b[0m, in \u001b[0;36mDataFrameReader.parquet\u001b[0;34m(self, *paths, **options)\u001b[0m\n\u001b[1;32m    520\u001b[0m int96RebaseMode \u001b[38;5;241m=\u001b[39m options\u001b[38;5;241m.\u001b[39mget(\u001b[38;5;124m\"\u001b[39m\u001b[38;5;124mint96RebaseMode\u001b[39m\u001b[38;5;124m\"\u001b[39m, \u001b[38;5;28;01mNone\u001b[39;00m)\n\u001b[1;32m    521\u001b[0m \u001b[38;5;28mself\u001b[39m\u001b[38;5;241m.\u001b[39m_set_opts(\n\u001b[1;32m    522\u001b[0m     mergeSchema\u001b[38;5;241m=\u001b[39mmergeSchema,\n\u001b[1;32m    523\u001b[0m     pathGlobFilter\u001b[38;5;241m=\u001b[39mpathGlobFilter,\n\u001b[0;32m   (...)\u001b[0m\n\u001b[1;32m    528\u001b[0m     int96RebaseMode\u001b[38;5;241m=\u001b[39mint96RebaseMode,\n\u001b[1;32m    529\u001b[0m )\n\u001b[0;32m--> 531\u001b[0m \u001b[38;5;28;01mreturn\u001b[39;00m \u001b[38;5;28mself\u001b[39m\u001b[38;5;241m.\u001b[39m_df(\u001b[38;5;28mself\u001b[39m\u001b[38;5;241m.\u001b[39m_jreader\u001b[38;5;241m.\u001b[39mparquet(_to_seq(\u001b[38;5;28mself\u001b[39m\u001b[38;5;241m.\u001b[39m_spark\u001b[38;5;241m.\u001b[39m_sc, paths)))\n",
      "File \u001b[0;32m~/spark/spark-3.4.4-bin-hadoop3/python/lib/py4j-0.10.9.7-src.zip/py4j/java_gateway.py:1322\u001b[0m, in \u001b[0;36mJavaMember.__call__\u001b[0;34m(self, *args)\u001b[0m\n\u001b[1;32m   1316\u001b[0m command \u001b[38;5;241m=\u001b[39m proto\u001b[38;5;241m.\u001b[39mCALL_COMMAND_NAME \u001b[38;5;241m+\u001b[39m\\\n\u001b[1;32m   1317\u001b[0m     \u001b[38;5;28mself\u001b[39m\u001b[38;5;241m.\u001b[39mcommand_header \u001b[38;5;241m+\u001b[39m\\\n\u001b[1;32m   1318\u001b[0m     args_command \u001b[38;5;241m+\u001b[39m\\\n\u001b[1;32m   1319\u001b[0m     proto\u001b[38;5;241m.\u001b[39mEND_COMMAND_PART\n\u001b[1;32m   1321\u001b[0m answer \u001b[38;5;241m=\u001b[39m \u001b[38;5;28mself\u001b[39m\u001b[38;5;241m.\u001b[39mgateway_client\u001b[38;5;241m.\u001b[39msend_command(command)\n\u001b[0;32m-> 1322\u001b[0m return_value \u001b[38;5;241m=\u001b[39m get_return_value(\n\u001b[1;32m   1323\u001b[0m     answer, \u001b[38;5;28mself\u001b[39m\u001b[38;5;241m.\u001b[39mgateway_client, \u001b[38;5;28mself\u001b[39m\u001b[38;5;241m.\u001b[39mtarget_id, \u001b[38;5;28mself\u001b[39m\u001b[38;5;241m.\u001b[39mname)\n\u001b[1;32m   1325\u001b[0m \u001b[38;5;28;01mfor\u001b[39;00m temp_arg \u001b[38;5;129;01min\u001b[39;00m temp_args:\n\u001b[1;32m   1326\u001b[0m     \u001b[38;5;28;01mif\u001b[39;00m \u001b[38;5;28mhasattr\u001b[39m(temp_arg, \u001b[38;5;124m\"\u001b[39m\u001b[38;5;124m_detach\u001b[39m\u001b[38;5;124m\"\u001b[39m):\n",
      "File \u001b[0;32m~/spark/spark-3.4.4-bin-hadoop3/python/pyspark/errors/exceptions/captured.py:175\u001b[0m, in \u001b[0;36mcapture_sql_exception.<locals>.deco\u001b[0;34m(*a, **kw)\u001b[0m\n\u001b[1;32m    171\u001b[0m converted \u001b[38;5;241m=\u001b[39m convert_exception(e\u001b[38;5;241m.\u001b[39mjava_exception)\n\u001b[1;32m    172\u001b[0m \u001b[38;5;28;01mif\u001b[39;00m \u001b[38;5;129;01mnot\u001b[39;00m \u001b[38;5;28misinstance\u001b[39m(converted, UnknownException):\n\u001b[1;32m    173\u001b[0m     \u001b[38;5;66;03m# Hide where the exception came from that shows a non-Pythonic\u001b[39;00m\n\u001b[1;32m    174\u001b[0m     \u001b[38;5;66;03m# JVM exception message.\u001b[39;00m\n\u001b[0;32m--> 175\u001b[0m     \u001b[38;5;28;01mraise\u001b[39;00m converted \u001b[38;5;28;01mfrom\u001b[39;00m \u001b[38;5;28;01mNone\u001b[39;00m\n\u001b[1;32m    176\u001b[0m \u001b[38;5;28;01melse\u001b[39;00m:\n\u001b[1;32m    177\u001b[0m     \u001b[38;5;28;01mraise\u001b[39;00m\n",
      "\u001b[0;31mAnalysisException\u001b[0m: [PATH_NOT_FOUND] Path does not exist: file:/home/spark_jhigaki_gcp/tmp-data/raw/fhv_tripdata_2019-01.parquet."
     ]
    }
   ],
   "source": [
    "year = 2019\n",
    "for service_type in [\"yellow\"]:#, \"green\", \"fhv\"]:\n",
    "    for month in range(6,13):\n",
    "        s_month = f'{month:02d}'\n",
    "        print(f'processing data for {service_type}/ {year}/{s_month}')\n",
    "        output_path = f'tmp-data/pq/{service_type}/{year}/{s_month}/'\n",
    "        df = spark.read\\\n",
    "            .parquet(f'tmp-data/raw/{service_type}_tripdata_{year}-{s_month}.parquet')\n",
    "        df \\\n",
    "        .repartition(4) \\\n",
    "        .write.parquet(output_path)\n"
   ]
  },
  {
   "cell_type": "markdown",
   "metadata": {},
   "source": [
    "# Parquet files structure\n",
    "\n",
    "`tmp-data/pq`\n",
    "\n",
    "```bash\n",
    "tmp-data/pq\n",
    "├── fhv\n",
    "│   └── 2019\n",
    "│       ├── 01\n",
    "│       │   ├── _SUCCESS\n",
    "│       │   ├── part-00000-280eb4fc-a1b5-42ba-9e6c-d01869f9d57b-c000.snappy.parquet\n",
    "│       │   ├── part-00001-280eb4fc-a1b5-42ba-9e6c-d01869f9d57b-c000.snappy.parquet\n",
    "│       │   ├── part-00002-280eb4fc-a1b5-42ba-9e6c-d01869f9d57b-c000.snappy.parquet\n",
    "│       │   └── part-00003-280eb4fc-a1b5-42ba-9e6c-d01869f9d57b-c000.snappy.parquet\n",
    "│       └── 02\n",
    "│           ├── _SUCCESS\n",
    "│           ├── part-00000-67561eba-5ab3-436b-a67a-dca2bf9822dd-c000.snappy.parquet\n",
    "│           ├── part-00001-67561eba-5ab3-436b-a67a-dca2bf9822dd-c000.snappy.parquet\n",
    "│           ├── part-00002-67561eba-5ab3-436b-a67a-dca2bf9822dd-c000.snappy.parquet\n",
    "│           └── part-00003-67561eba-5ab3-436b-a67a-dca2bf9822dd-c000.snappy.parquet\n",
    "├── green\n",
    "│   └── 2019\n",
    "│       ├── 01\n",
    "│       │   ├── _SUCCESS\n",
    "│       │   ├── part-00000-aa48fd5f-bf05-4667-90df-233dcfbc7e9e-c000.snappy.parquet\n",
    "│       │   ├── part-00001-aa48fd5f-bf05-4667-90df-233dcfbc7e9e-c000.snappy.parquet\n",
    "│       │   ├── part-00002-aa48fd5f-bf05-4667-90df-233dcfbc7e9e-c000.snappy.parquet\n",
    "│       │   └── part-00003-aa48fd5f-bf05-4667-90df-233dcfbc7e9e-c000.snappy.parquet\n",
    "│       └── 02\n",
    "│           ├── _SUCCESS\n",
    "│           ├── part-00000-373ee481-af6c-48b7-9baf-abb558d5085c-c000.snappy.parquet\n",
    "│           ├── part-00001-373ee481-af6c-48b7-9baf-abb558d5085c-c000.snappy.parquet\n",
    "│           ├── part-00002-373ee481-af6c-48b7-9baf-abb558d5085c-c000.snappy.parquet\n",
    "│           └── part-00003-373ee481-af6c-48b7-9baf-abb558d5085c-c000.snappy.parquet\n",
    "└── yellow\n",
    "    └── 2019\n",
    "        ├── 01\n",
    "        │   ├── _SUCCESS\n",
    "        │   ├── part-00000-8aff6ca3-bf91-4ee4-9cde-9ead8cac9ef4-c000.snappy.parquet\n",
    "        │   ├── part-00001-8aff6ca3-bf91-4ee4-9cde-9ead8cac9ef4-c000.snappy.parquet\n",
    "        │   ├── part-00002-8aff6ca3-bf91-4ee4-9cde-9ead8cac9ef4-c000.snappy.parquet\n",
    "        │   └── part-00003-8aff6ca3-bf91-4ee4-9cde-9ead8cac9ef4-c000.snappy.parquet\n",
    "        └── 02\n",
    "            ├── _SUCCESS\n",
    "            ├── part-00000-82f659c1-77ef-4939-a81e-3801306d6812-c000.snappy.parquet\n",
    "            ├── part-00001-82f659c1-77ef-4939-a81e-3801306d6812-c000.snappy.parquet\n",
    "            ├── part-00002-82f659c1-77ef-4939-a81e-3801306d6812-c000.snappy.parquet\n",
    "            └── part-00003-82f659c1-77ef-4939-a81e-3801306d6812-c000.snappy.parquet\n",
    "\n",
    "13 directories, 30 files\n",
    "```"
   ]
  },
  {
   "cell_type": "markdown",
   "metadata": {},
   "source": [
    "`ls -shR tmp-data/pq`\n",
    "\n",
    "```bash\n",
    "*******************************************************************************************\n",
    "tmp-data/pq/fhv/2019/01:\n",
    "total 436M\n",
    "   0 _SUCCESS\n",
    "109M part-00000-280eb4fc-a1b5-42ba-9e6c-d01869f9d57b-c000.snappy.parquet\n",
    "109M part-00001-280eb4fc-a1b5-42ba-9e6c-d01869f9d57b-c000.snappy.parquet\n",
    "109M part-00002-280eb4fc-a1b5-42ba-9e6c-d01869f9d57b-c000.snappy.parquet\n",
    "109M part-00003-280eb4fc-a1b5-42ba-9e6c-d01869f9d57b-c000.snappy.parquet\n",
    "\n",
    "tmp-data/pq/fhv/2019/02:\n",
    "total 30M\n",
    "   0 _SUCCESS\n",
    "7.3M part-00000-67561eba-5ab3-436b-a67a-dca2bf9822dd-c000.snappy.parquet\n",
    "7.3M part-00001-67561eba-5ab3-436b-a67a-dca2bf9822dd-c000.snappy.parquet\n",
    "7.3M part-00002-67561eba-5ab3-436b-a67a-dca2bf9822dd-c000.snappy.parquet\n",
    "7.3M part-00003-67561eba-5ab3-436b-a67a-dca2bf9822dd-c000.snappy.parquet\n",
    "*******************************************************************************************\n",
    "tmp-data/pq/green/2019/01:\n",
    "total 16M\n",
    "   0 _SUCCESS\n",
    "4.0M part-00000-aa48fd5f-bf05-4667-90df-233dcfbc7e9e-c000.snappy.parquet\n",
    "4.0M part-00001-aa48fd5f-bf05-4667-90df-233dcfbc7e9e-c000.snappy.parquet\n",
    "4.0M part-00002-aa48fd5f-bf05-4667-90df-233dcfbc7e9e-c000.snappy.parquet\n",
    "4.0M part-00003-aa48fd5f-bf05-4667-90df-233dcfbc7e9e-c000.snappy.parquet\n",
    "\n",
    "tmp-data/pq/green/2019/02:\n",
    "total 15M\n",
    "   0 _SUCCESS\n",
    "3.7M part-00000-373ee481-af6c-48b7-9baf-abb558d5085c-c000.snappy.parquet\n",
    "3.7M part-00001-373ee481-af6c-48b7-9baf-abb558d5085c-c000.snappy.parquet\n",
    "3.7M part-00002-373ee481-af6c-48b7-9baf-abb558d5085c-c000.snappy.parquet\n",
    "3.7M part-00003-373ee481-af6c-48b7-9baf-abb558d5085c-c000.snappy.parquet\n",
    "*******************************************************************************************\n",
    "tmp-data/pq/yellow/2019/01:\n",
    "total 180M\n",
    "  0 _SUCCESS\n",
    "45M part-00000-8aff6ca3-bf91-4ee4-9cde-9ead8cac9ef4-c000.snappy.parquet\n",
    "45M part-00001-8aff6ca3-bf91-4ee4-9cde-9ead8cac9ef4-c000.snappy.parquet\n",
    "45M part-00002-8aff6ca3-bf91-4ee4-9cde-9ead8cac9ef4-c000.snappy.parquet\n",
    "45M part-00003-8aff6ca3-bf91-4ee4-9cde-9ead8cac9ef4-c000.snappy.parquet\n",
    "\n",
    "tmp-data/pq/yellow/2019/02:\n",
    "total 167M\n",
    "  0 _SUCCESS\n",
    "42M part-00000-82f659c1-77ef-4939-a81e-3801306d6812-c000.snappy.parquet\n",
    "42M part-00001-82f659c1-77ef-4939-a81e-3801306d6812-c000.snappy.parquet\n",
    "42M part-00002-82f659c1-77ef-4939-a81e-3801306d6812-c000.snappy.parquet\n",
    "42M part-00003-82f659c1-77ef-4939-a81e-3801306d6812-c000.snappy.parquet\n",
    "```"
   ]
  },
  {
   "cell_type": "markdown",
   "metadata": {},
   "source": [
    "# Parquet files were splitted in 4 "
   ]
  }
 ],
 "metadata": {
  "kernelspec": {
   "display_name": "Python 3 (ipykernel)",
   "language": "python",
   "name": "python3"
  },
  "language_info": {
   "codemirror_mode": {
    "name": "ipython",
    "version": 3
   },
   "file_extension": ".py",
   "mimetype": "text/x-python",
   "name": "python",
   "nbconvert_exporter": "python",
   "pygments_lexer": "ipython3",
   "version": "3.11.10"
  }
 },
 "nbformat": 4,
 "nbformat_minor": 2
}
