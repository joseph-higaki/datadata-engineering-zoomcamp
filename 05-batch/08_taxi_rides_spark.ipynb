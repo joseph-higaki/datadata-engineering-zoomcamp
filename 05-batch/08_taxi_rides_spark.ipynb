{
 "cells": [
  {
   "cell_type": "markdown",
   "metadata": {},
   "source": [
    "# GCS Google Cloud Storage \n",
    "As the strage medium for SPark\n",
    "\n",
    "By now, we have pq written files to local filesystem tree `tmp-data/pq/yellow` / `green`\n",
    "\n",
    "Let's copy the pq files into gcs bucket. [Instructions here](./using_gloud.md#gcp-vm-copy-files-from-vm-local-to-gcs-bucket)"
   ]
  },
  {
   "cell_type": "code",
   "execution_count": 1,
   "metadata": {},
   "outputs": [],
   "source": [
    "import pyspark\n",
    "from pyspark.sql import SparkSession\n",
    "from pyspark.conf import SparkConf\n",
    "from pyspark.context import SparkContext\n"
   ]
  },
  {
   "cell_type": "code",
   "execution_count": 2,
   "metadata": {},
   "outputs": [],
   "source": [
    "credentials_location = '~/de-zoomcamp-jhigaki-course----spark-gcs.json'\n",
    "\n",
    "conf = SparkConf() \\\n",
    "    .setMaster('local[*]') \\\n",
    "    .setAppName('test') \\\n",
    "    .set(\"spark.jars\", \"./spark/lib/gcs-connector-3.0.4.jar\")\\\n",
    "    .set(\"spark.hadoop.google.cloud.auth.service.account.enable\", \"true\") \\\n",
    "    .set(\"spark.hadoop.google.cloud.auth.service.account.json.keyfile\", credentials_location)\n",
    "    "
   ]
  },
  {
   "cell_type": "code",
   "execution_count": 3,
   "metadata": {},
   "outputs": [
    {
     "name": "stderr",
     "output_type": "stream",
     "text": [
      "24/12/02 12:07:03 WARN NativeCodeLoader: Unable to load native-hadoop library for your platform... using builtin-java classes where applicable\n",
      "Setting default log level to \"WARN\".\n",
      "To adjust logging level use sc.setLogLevel(newLevel). For SparkR, use setLogLevel(newLevel).\n"
     ]
    }
   ],
   "source": [
    "sc = SparkContext(conf=conf)\n",
    "\n",
    "hadoop_conf = sc._jsc.hadoopConfiguration()\n",
    "\n",
    "hadoop_conf.set(\"fs.AbstractFileSystem.gs.impl\",  \"com.google.cloud.hadoop.fs.gcs.GoogleHadoopFS\")\n",
    "hadoop_conf.set(\"fs.gs.impl\", \"com.google.cloud.hadoop.fs.gcs.GoogleHadoopFileSystem\")\n",
    "hadoop_conf.set(\"fs.gs.auth.service.account.json.keyfile\", credentials_location)\n",
    "hadoop_conf.set(\"fs.gs.auth.service.account.enable\", \"true\")"
   ]
  },
  {
   "cell_type": "code",
   "execution_count": 4,
   "metadata": {},
   "outputs": [],
   "source": [
    "spark = SparkSession.builder \\\n",
    "    .config(conf=sc.getConf())\\\n",
    "    .getOrCreate()"
   ]
  },
  {
   "cell_type": "code",
   "execution_count": 5,
   "metadata": {},
   "outputs": [
    {
     "data": {
      "text/plain": [
       "'http://spark-medium.europe-southwest1-a.c.de-zoomcamp-jhigaki-course.internal:4040'"
      ]
     },
     "execution_count": 5,
     "metadata": {},
     "output_type": "execute_result"
    }
   ],
   "source": [
    "sc.uiWebUrl"
   ]
  },
  {
   "cell_type": "code",
   "execution_count": 6,
   "metadata": {},
   "outputs": [
    {
     "name": "stderr",
     "output_type": "stream",
     "text": [
      "24/12/02 12:07:19 WARN MetricsConfig: Cannot locate configuration: tried hadoop-metrics2-google-hadoop-file-system.properties,hadoop-metrics2.properties\n",
      "                                                                                \r"
     ]
    }
   ],
   "source": [
    "df_green = spark.read\\\n",
    "    .parquet(f'gs://de-zoomcamp-jhigaki-nyc-taxi/pq/green/*/*')"
   ]
  },
  {
   "cell_type": "code",
   "execution_count": 7,
   "metadata": {},
   "outputs": [
    {
     "name": "stderr",
     "output_type": "stream",
     "text": [
      "[Stage 1:>                                                          (0 + 1) / 1]\r"
     ]
    },
    {
     "name": "stdout",
     "output_type": "stream",
     "text": [
      "+--------+--------------------+---------------------+------------------+----------+------------+------------+---------------+-------------+-----------+-----+-------+----------+------------+---------+---------------------+------------+------------+---------+--------------------+\n",
      "|VendorID|lpep_pickup_datetime|lpep_dropoff_datetime|store_and_fwd_flag|RatecodeID|PULocationID|DOLocationID|passenger_count|trip_distance|fare_amount|extra|mta_tax|tip_amount|tolls_amount|ehail_fee|improvement_surcharge|total_amount|payment_type|trip_type|congestion_surcharge|\n",
      "+--------+--------------------+---------------------+------------------+----------+------------+------------+---------------+-------------+-----------+-----+-------+----------+------------+---------+---------------------+------------+------------+---------+--------------------+\n",
      "|       2| 2019-01-22 20:19:05|  2019-01-22 20:34:57|                 N|       1.0|          42|         220|            6.0|         6.15|       20.0|  0.5|    0.5|       0.0|         0.0|     null|                  0.3|        21.3|         1.0|      1.0|                null|\n",
      "|       1| 2019-01-11 23:22:52|  2019-01-11 23:27:44|                 N|       1.0|          65|          49|            1.0|          1.0|        5.5|  0.5|    0.5|      1.35|         0.0|     null|                  0.3|        8.15|         1.0|      1.0|                null|\n",
      "|       2| 2019-01-24 19:34:33|  2019-01-24 19:40:19|                 N|       1.0|          24|          24|            1.0|         0.66|        5.5|  1.0|    0.5|       0.0|         0.0|     null|                  0.3|         7.3|         2.0|      1.0|                null|\n",
      "|       2| 2019-01-11 16:27:57|  2019-01-11 16:28:26|                 N|       1.0|         181|         181|            1.0|          0.0|        2.5|  1.0|    0.5|       0.0|         0.0|     null|                  0.3|         4.3|         2.0|      1.0|                null|\n",
      "|       1| 2019-01-30 21:49:14|  2019-01-30 21:56:11|                 N|       1.0|          65|          66|            2.0|          1.1|        6.5|  0.5|    0.5|      1.55|         0.0|     null|                  0.3|        9.35|         1.0|      1.0|                 0.0|\n",
      "|       2| 2019-01-22 20:05:40|  2019-01-22 20:29:02|                 N|       1.0|         223|         160|            5.0|          5.7|       21.0|  0.5|    0.5|      6.69|         0.0|     null|                  0.3|       28.99|         1.0|      1.0|                null|\n",
      "|       2| 2019-01-23 13:24:45|  2019-01-23 13:33:19|                 N|       1.0|         188|         188|            1.0|         1.35|        7.5|  0.0|    0.5|       0.0|         0.0|     null|                  0.3|         8.3|         1.0|      1.0|                null|\n",
      "|       2| 2019-01-29 16:02:00|  2019-01-29 16:38:00|              null|      null|          82|         166|           null|         7.95|      30.49| 2.75|    0.5|       0.0|        5.76|     null|                  0.0|        39.5|        null|     null|                null|\n",
      "|       2| 2019-01-01 01:59:10|  2019-01-01 02:05:39|                 N|       1.0|          42|          42|            1.0|         1.17|        6.5|  0.5|    0.5|       0.2|         0.0|     null|                  0.3|         8.0|         1.0|      1.0|                null|\n",
      "|       1| 2019-01-06 12:17:56|  2019-01-06 12:43:22|                 N|       1.0|         217|          26|            1.0|          8.8|       28.0|  0.0|    0.5|       0.0|         0.0|     null|                  0.3|        28.8|         1.0|      1.0|                null|\n",
      "+--------+--------------------+---------------------+------------------+----------+------------+------------+---------------+-------------+-----------+-----+-------+----------+------------+---------+---------------------+------------+------------+---------+--------------------+\n",
      "only showing top 10 rows\n",
      "\n"
     ]
    },
    {
     "name": "stderr",
     "output_type": "stream",
     "text": [
      "                                                                                \r"
     ]
    }
   ],
   "source": [
    "df_green.show(10)"
   ]
  }
 ],
 "metadata": {
  "kernelspec": {
   "display_name": "Python 3 (ipykernel)",
   "language": "python",
   "name": "python3"
  }
 },
 "nbformat": 4,
 "nbformat_minor": 2
}
